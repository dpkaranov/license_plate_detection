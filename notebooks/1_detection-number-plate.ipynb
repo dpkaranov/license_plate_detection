{
 "cells": [
  {
   "cell_type": "code",
   "execution_count": 1,
   "id": "232ad7cc",
   "metadata": {
    "_cell_guid": "b1076dfc-b9ad-4769-8c92-a6c4dae69d19",
    "_uuid": "8f2839f25d086af736a60e9eeb907d3b93b6e0e5",
    "execution": {
     "iopub.execute_input": "2022-11-01T18:44:04.643386Z",
     "iopub.status.busy": "2022-11-01T18:44:04.642548Z",
     "iopub.status.idle": "2022-11-01T18:44:04.652977Z",
     "shell.execute_reply": "2022-11-01T18:44:04.652174Z"
    },
    "papermill": {
     "duration": 0.021269,
     "end_time": "2022-11-01T18:44:04.655022",
     "exception": false,
     "start_time": "2022-11-01T18:44:04.633753",
     "status": "completed"
    },
    "tags": []
   },
   "outputs": [],
   "source": [
    "\n",
    "\n",
    "import numpy as np \n",
    "import pandas as pd \n",
    "import os\n"
   ]
  },
  {
   "cell_type": "code",
   "execution_count": 2,
   "id": "4b30e467",
   "metadata": {
    "execution": {
     "iopub.execute_input": "2022-11-01T18:44:04.668646Z",
     "iopub.status.busy": "2022-11-01T18:44:04.667671Z",
     "iopub.status.idle": "2022-11-01T18:44:10.877192Z",
     "shell.execute_reply": "2022-11-01T18:44:10.876249Z"
    },
    "papermill": {
     "duration": 6.218723,
     "end_time": "2022-11-01T18:44:10.879962",
     "exception": false,
     "start_time": "2022-11-01T18:44:04.661239",
     "status": "completed"
    },
    "tags": []
   },
   "outputs": [],
   "source": [
    "import os\n",
    "import cv2\n",
    "import numpy as np\n",
    "import pandas as pd\n",
    "import tensorflow as tf\n",
    "import matplotlib.pyplot as plt\n",
    "from tensorflow.keras.models import Model\n",
    "from tensorflow.keras.callbacks import TensorBoard\n",
    "from sklearn.model_selection import train_test_split\n",
    "from tensorflow.keras.applications import InceptionResNetV2\n",
    "from tensorflow.keras.layers import Dense, Dropout, Flatten, Input\n",
    "from tensorflow.keras.preprocessing.image import load_img, img_to_array"
   ]
  },
  {
   "cell_type": "markdown",
   "id": "208cac1d",
   "metadata": {
    "papermill": {
     "duration": 0.005798,
     "end_time": "2022-11-01T18:44:10.891805",
     "exception": false,
     "start_time": "2022-11-01T18:44:10.886007",
     "status": "completed"
    },
    "tags": []
   },
   "source": [
    "# Train Inseption-ResNet-V2"
   ]
  },
  {
   "cell_type": "code",
   "execution_count": 3,
   "id": "a34f21b6",
   "metadata": {
    "execution": {
     "iopub.execute_input": "2022-11-01T18:44:10.906041Z",
     "iopub.status.busy": "2022-11-01T18:44:10.904414Z",
     "iopub.status.idle": "2022-11-01T18:44:10.931551Z",
     "shell.execute_reply": "2022-11-01T18:44:10.930515Z"
    },
    "papermill": {
     "duration": 0.036974,
     "end_time": "2022-11-01T18:44:10.934493",
     "exception": false,
     "start_time": "2022-11-01T18:44:10.897519",
     "status": "completed"
    },
    "tags": []
   },
   "outputs": [
    {
     "data": {
      "text/html": [
       "<div>\n",
       "<style scoped>\n",
       "    .dataframe tbody tr th:only-of-type {\n",
       "        vertical-align: middle;\n",
       "    }\n",
       "\n",
       "    .dataframe tbody tr th {\n",
       "        vertical-align: top;\n",
       "    }\n",
       "\n",
       "    .dataframe thead th {\n",
       "        text-align: right;\n",
       "    }\n",
       "</style>\n",
       "<table border=\"1\" class=\"dataframe\">\n",
       "  <thead>\n",
       "    <tr style=\"text-align: right;\">\n",
       "      <th></th>\n",
       "      <th>filepath</th>\n",
       "      <th>xmin</th>\n",
       "      <th>xmax</th>\n",
       "      <th>ymin</th>\n",
       "      <th>ymax</th>\n",
       "    </tr>\n",
       "  </thead>\n",
       "  <tbody>\n",
       "    <tr>\n",
       "      <th>0</th>\n",
       "      <td>../input/number-plate-detection/images/N148.xml</td>\n",
       "      <td>244</td>\n",
       "      <td>369</td>\n",
       "      <td>240</td>\n",
       "      <td>293</td>\n",
       "    </tr>\n",
       "    <tr>\n",
       "      <th>1</th>\n",
       "      <td>../input/number-plate-detection/images/N177.xml</td>\n",
       "      <td>331</td>\n",
       "      <td>538</td>\n",
       "      <td>263</td>\n",
       "      <td>317</td>\n",
       "    </tr>\n",
       "    <tr>\n",
       "      <th>2</th>\n",
       "      <td>../input/number-plate-detection/images/N173.xml</td>\n",
       "      <td>80</td>\n",
       "      <td>335</td>\n",
       "      <td>150</td>\n",
       "      <td>243</td>\n",
       "    </tr>\n",
       "    <tr>\n",
       "      <th>3</th>\n",
       "      <td>../input/number-plate-detection/images/N213.xml</td>\n",
       "      <td>131</td>\n",
       "      <td>209</td>\n",
       "      <td>129</td>\n",
       "      <td>153</td>\n",
       "    </tr>\n",
       "    <tr>\n",
       "      <th>4</th>\n",
       "      <td>../input/number-plate-detection/images/N119.xml</td>\n",
       "      <td>180</td>\n",
       "      <td>559</td>\n",
       "      <td>216</td>\n",
       "      <td>314</td>\n",
       "    </tr>\n",
       "  </tbody>\n",
       "</table>\n",
       "</div>"
      ],
      "text/plain": [
       "                                          filepath  xmin  xmax  ymin  ymax\n",
       "0  ../input/number-plate-detection/images/N148.xml   244   369   240   293\n",
       "1  ../input/number-plate-detection/images/N177.xml   331   538   263   317\n",
       "2  ../input/number-plate-detection/images/N173.xml    80   335   150   243\n",
       "3  ../input/number-plate-detection/images/N213.xml   131   209   129   153\n",
       "4  ../input/number-plate-detection/images/N119.xml   180   559   216   314"
      ]
     },
     "execution_count": 3,
     "metadata": {},
     "output_type": "execute_result"
    }
   ],
   "source": [
    "df = pd.read_csv('../input/k/aslanahmedov/automatic-number-plate-recognition/labels.csv')\n",
    "df.head()"
   ]
  },
  {
   "cell_type": "code",
   "execution_count": 4,
   "id": "88ed1a4f",
   "metadata": {
    "execution": {
     "iopub.execute_input": "2022-11-01T18:44:10.947983Z",
     "iopub.status.busy": "2022-11-01T18:44:10.947178Z",
     "iopub.status.idle": "2022-11-01T18:44:11.017372Z",
     "shell.execute_reply": "2022-11-01T18:44:11.016522Z"
    },
    "papermill": {
     "duration": 0.079023,
     "end_time": "2022-11-01T18:44:11.019627",
     "exception": false,
     "start_time": "2022-11-01T18:44:10.940604",
     "status": "completed"
    },
    "tags": []
   },
   "outputs": [],
   "source": [
    "dtrain = os.listdir('../input/k/aslanahmedov/automatic-number-plate-recognition/yolov5/data_images/train')\n",
    "dtest = os.listdir('../input/k/aslanahmedov/automatic-number-plate-recognition/yolov5/data_images/test')"
   ]
  },
  {
   "cell_type": "code",
   "execution_count": 5,
   "id": "e594d09f",
   "metadata": {
    "execution": {
     "iopub.execute_input": "2022-11-01T18:44:11.032891Z",
     "iopub.status.busy": "2022-11-01T18:44:11.032017Z",
     "iopub.status.idle": "2022-11-01T18:44:11.036730Z",
     "shell.execute_reply": "2022-11-01T18:44:11.035898Z"
    },
    "papermill": {
     "duration": 0.013452,
     "end_time": "2022-11-01T18:44:11.038774",
     "exception": false,
     "start_time": "2022-11-01T18:44:11.025322",
     "status": "completed"
    },
    "tags": []
   },
   "outputs": [],
   "source": [
    "TRAIN_PATH = '../input/k/aslanahmedov/automatic-number-plate-recognition/yolov5/data_images/train'\n",
    "TEST_PATH = '../input/k/aslanahmedov/automatic-number-plate-recognition/yolov5/data_images/test'"
   ]
  },
  {
   "cell_type": "code",
   "execution_count": 6,
   "id": "b66c2d5d",
   "metadata": {
    "execution": {
     "iopub.execute_input": "2022-11-01T18:44:11.052322Z",
     "iopub.status.busy": "2022-11-01T18:44:11.051703Z",
     "iopub.status.idle": "2022-11-01T18:44:11.057890Z",
     "shell.execute_reply": "2022-11-01T18:44:11.056930Z"
    },
    "papermill": {
     "duration": 0.015163,
     "end_time": "2022-11-01T18:44:11.060011",
     "exception": false,
     "start_time": "2022-11-01T18:44:11.044848",
     "status": "completed"
    },
    "tags": []
   },
   "outputs": [
    {
     "data": {
      "text/plain": [
       "400"
      ]
     },
     "execution_count": 6,
     "metadata": {},
     "output_type": "execute_result"
    }
   ],
   "source": [
    "len(dtrain)"
   ]
  },
  {
   "cell_type": "code",
   "execution_count": 7,
   "id": "9487b07a",
   "metadata": {
    "execution": {
     "iopub.execute_input": "2022-11-01T18:44:11.074179Z",
     "iopub.status.busy": "2022-11-01T18:44:11.073318Z",
     "iopub.status.idle": "2022-11-01T18:44:11.079261Z",
     "shell.execute_reply": "2022-11-01T18:44:11.078303Z"
    },
    "papermill": {
     "duration": 0.015436,
     "end_time": "2022-11-01T18:44:11.081155",
     "exception": false,
     "start_time": "2022-11-01T18:44:11.065719",
     "status": "completed"
    },
    "tags": []
   },
   "outputs": [],
   "source": [
    "img_path = []\n",
    "txt_path = []\n",
    "for x in range(len(dtrain)):\n",
    "    if dtrain[x].endswith('.jpeg'):\n",
    "        suf = dtrain[x][:-5]\n",
    "        img_path.append(dtrain[x])\n",
    "        txt_path.append(suf + '.txt')"
   ]
  },
  {
   "cell_type": "code",
   "execution_count": 8,
   "id": "e75ad4f0",
   "metadata": {
    "execution": {
     "iopub.execute_input": "2022-11-01T18:44:11.094298Z",
     "iopub.status.busy": "2022-11-01T18:44:11.093681Z",
     "iopub.status.idle": "2022-11-01T18:44:11.098607Z",
     "shell.execute_reply": "2022-11-01T18:44:11.097651Z"
    },
    "papermill": {
     "duration": 0.01385,
     "end_time": "2022-11-01T18:44:11.100746",
     "exception": false,
     "start_time": "2022-11-01T18:44:11.086896",
     "status": "completed"
    },
    "tags": []
   },
   "outputs": [],
   "source": [
    "img_test_path = []\n",
    "txt_test_path = []\n",
    "for x in range(len(dtest)):\n",
    "    if dtest[x].endswith('.jpeg'):\n",
    "        suf = dtest[x][:-5]\n",
    "        img_test_path.append(dtest[x])\n",
    "        txt_test_path.append(suf + '.txt')"
   ]
  },
  {
   "cell_type": "code",
   "execution_count": 9,
   "id": "2e49e206",
   "metadata": {
    "execution": {
     "iopub.execute_input": "2022-11-01T18:44:11.114431Z",
     "iopub.status.busy": "2022-11-01T18:44:11.113620Z",
     "iopub.status.idle": "2022-11-01T18:44:16.268797Z",
     "shell.execute_reply": "2022-11-01T18:44:16.267737Z"
    },
    "papermill": {
     "duration": 5.164772,
     "end_time": "2022-11-01T18:44:16.271553",
     "exception": false,
     "start_time": "2022-11-01T18:44:11.106781",
     "status": "completed"
    },
    "tags": []
   },
   "outputs": [],
   "source": [
    "data = []\n",
    "output = []\n",
    "for i in range(len(img_path)):\n",
    "    image = os.path.join(TRAIN_PATH, img_path[i])\n",
    "    img_arr = cv2.imread(image)\n",
    "    load_image = load_img(image,target_size=(224,224))\n",
    "    load_image_arr = img_to_array(load_image)\n",
    "    norm_load_image_arr = load_image_arr/255.0 # Normalization\n",
    "    # Normalization to labels\n",
    "    lab = img_path[i][:-5]\n",
    "    with open(os.path.join(TRAIN_PATH, lab+'.txt'), 'r') as file:\n",
    "        doc = file.read()\n",
    "        file.close()\n",
    "    cases = doc.split('\\n')\n",
    "    box = []\n",
    "    for case in cases:\n",
    "        nxmin,nxmax,nymin,nymax = case.split(' ')[1:]\n",
    "        label_norm = (float(nxmin),float(nxmax),float(nymin),float(nymax))\n",
    "        box.append(label_norm)\n",
    "    data.append(norm_load_image_arr)\n",
    "    output.append(box)"
   ]
  },
  {
   "cell_type": "code",
   "execution_count": 10,
   "id": "988289df",
   "metadata": {
    "execution": {
     "iopub.execute_input": "2022-11-01T18:44:16.285816Z",
     "iopub.status.busy": "2022-11-01T18:44:16.285505Z",
     "iopub.status.idle": "2022-11-01T18:44:17.033821Z",
     "shell.execute_reply": "2022-11-01T18:44:17.032742Z"
    },
    "papermill": {
     "duration": 0.758397,
     "end_time": "2022-11-01T18:44:17.036199",
     "exception": false,
     "start_time": "2022-11-01T18:44:16.277802",
     "status": "completed"
    },
    "tags": []
   },
   "outputs": [],
   "source": [
    "data_test = []\n",
    "output_test = []\n",
    "for i in range(len(img_test_path)):\n",
    "    image = os.path.join(TEST_PATH, img_test_path[i])\n",
    "    img_arr = cv2.imread(image)\n",
    "    load_image = load_img(image,target_size=(224,224))\n",
    "    load_image_arr = img_to_array(load_image)\n",
    "    norm_load_image_arr = load_image_arr/255.0 # Normalization\n",
    "    # Normalization to labels\n",
    "    lab = img_test_path[i][:-5]\n",
    "    with open(os.path.join(TEST_PATH, lab+'.txt'), 'r') as file:\n",
    "        doc = file.read()\n",
    "        file.close()\n",
    "    cases = doc.split('\\n') \n",
    "    box = []\n",
    "    for case in cases:\n",
    "        nxmin,nxmax,nymin,nymax = case.split(' ')[1:]\n",
    "        label_norm = (float(nxmin),float(nxmax),float(nymin),float(nymax))\n",
    "        box.append(label_norm)\n",
    "    data_test.append(norm_load_image_arr)\n",
    "    output_test.append(box)"
   ]
  },
  {
   "cell_type": "code",
   "execution_count": 11,
   "id": "36d610cc",
   "metadata": {
    "execution": {
     "iopub.execute_input": "2022-11-01T18:44:17.051904Z",
     "iopub.status.busy": "2022-11-01T18:44:17.050358Z",
     "iopub.status.idle": "2022-11-01T18:44:17.096287Z",
     "shell.execute_reply": "2022-11-01T18:44:17.095281Z"
    },
    "papermill": {
     "duration": 0.055556,
     "end_time": "2022-11-01T18:44:17.098836",
     "exception": false,
     "start_time": "2022-11-01T18:44:17.043280",
     "status": "completed"
    },
    "tags": []
   },
   "outputs": [],
   "source": [
    "x_train,x_test,y_train,y_test = np.array(data,dtype=np.float32), np.array(data_test,dtype=np.float32), np.array(output,dtype=np.float32), np.array(output_test,dtype=np.float32)"
   ]
  },
  {
   "cell_type": "code",
   "execution_count": 12,
   "id": "989d56d3",
   "metadata": {
    "execution": {
     "iopub.execute_input": "2022-11-01T18:44:17.113906Z",
     "iopub.status.busy": "2022-11-01T18:44:17.112351Z",
     "iopub.status.idle": "2022-11-01T18:44:25.342086Z",
     "shell.execute_reply": "2022-11-01T18:44:25.341106Z"
    },
    "papermill": {
     "duration": 8.239714,
     "end_time": "2022-11-01T18:44:25.344793",
     "exception": false,
     "start_time": "2022-11-01T18:44:17.105079",
     "status": "completed"
    },
    "tags": []
   },
   "outputs": [
    {
     "name": "stderr",
     "output_type": "stream",
     "text": [
      "2022-11-01 18:44:17.211766: I tensorflow/stream_executor/cuda/cuda_gpu_executor.cc:937] successful NUMA node read from SysFS had negative value (-1), but there must be at least one NUMA node, so returning NUMA node zero\n",
      "2022-11-01 18:44:17.306276: I tensorflow/stream_executor/cuda/cuda_gpu_executor.cc:937] successful NUMA node read from SysFS had negative value (-1), but there must be at least one NUMA node, so returning NUMA node zero\n",
      "2022-11-01 18:44:17.307016: I tensorflow/stream_executor/cuda/cuda_gpu_executor.cc:937] successful NUMA node read from SysFS had negative value (-1), but there must be at least one NUMA node, so returning NUMA node zero\n",
      "2022-11-01 18:44:17.308188: I tensorflow/core/platform/cpu_feature_guard.cc:142] This TensorFlow binary is optimized with oneAPI Deep Neural Network Library (oneDNN) to use the following CPU instructions in performance-critical operations:  AVX2 AVX512F FMA\n",
      "To enable them in other operations, rebuild TensorFlow with the appropriate compiler flags.\n",
      "2022-11-01 18:44:17.316117: I tensorflow/stream_executor/cuda/cuda_gpu_executor.cc:937] successful NUMA node read from SysFS had negative value (-1), but there must be at least one NUMA node, so returning NUMA node zero\n",
      "2022-11-01 18:44:17.316840: I tensorflow/stream_executor/cuda/cuda_gpu_executor.cc:937] successful NUMA node read from SysFS had negative value (-1), but there must be at least one NUMA node, so returning NUMA node zero\n",
      "2022-11-01 18:44:17.317541: I tensorflow/stream_executor/cuda/cuda_gpu_executor.cc:937] successful NUMA node read from SysFS had negative value (-1), but there must be at least one NUMA node, so returning NUMA node zero\n",
      "2022-11-01 18:44:19.516080: I tensorflow/stream_executor/cuda/cuda_gpu_executor.cc:937] successful NUMA node read from SysFS had negative value (-1), but there must be at least one NUMA node, so returning NUMA node zero\n",
      "2022-11-01 18:44:19.516914: I tensorflow/stream_executor/cuda/cuda_gpu_executor.cc:937] successful NUMA node read from SysFS had negative value (-1), but there must be at least one NUMA node, so returning NUMA node zero\n",
      "2022-11-01 18:44:19.517617: I tensorflow/stream_executor/cuda/cuda_gpu_executor.cc:937] successful NUMA node read from SysFS had negative value (-1), but there must be at least one NUMA node, so returning NUMA node zero\n",
      "2022-11-01 18:44:19.518347: I tensorflow/core/common_runtime/gpu/gpu_device.cc:1510] Created device /job:localhost/replica:0/task:0/device:GPU:0 with 15401 MB memory:  -> device: 0, name: Tesla P100-PCIE-16GB, pci bus id: 0000:00:04.0, compute capability: 6.0\n"
     ]
    },
    {
     "name": "stdout",
     "output_type": "stream",
     "text": [
      "Downloading data from https://storage.googleapis.com/tensorflow/keras-applications/inception_resnet_v2/inception_resnet_v2_weights_tf_dim_ordering_tf_kernels_notop.h5\n",
      "219062272/219055592 [==============================] - 1s 0us/step\n",
      "219070464/219055592 [==============================] - 1s 0us/step\n"
     ]
    }
   ],
   "source": [
    "inception_resnet = InceptionResNetV2(weights=\"imagenet\",include_top=False, input_tensor=Input(shape=(224,224,3)))\n",
    "# ---------------------\n",
    "headmodel = inception_resnet.output\n",
    "headmodel = Flatten()(headmodel)\n",
    "headmodel = Dense(500,activation=\"relu\")(headmodel)\n",
    "headmodel = Dense(250,activation=\"relu\")(headmodel)\n",
    "headmodel = Dense(4,activation='sigmoid')(headmodel)\n",
    "\n",
    "\n",
    "# ---------- model\n",
    "model = Model(inputs=inception_resnet.input,outputs=headmodel)"
   ]
  },
  {
   "cell_type": "code",
   "execution_count": 13,
   "id": "3283bdcf",
   "metadata": {
    "execution": {
     "iopub.execute_input": "2022-11-01T18:44:25.361470Z",
     "iopub.status.busy": "2022-11-01T18:44:25.361172Z",
     "iopub.status.idle": "2022-11-01T18:44:25.393265Z",
     "shell.execute_reply": "2022-11-01T18:44:25.392005Z"
    },
    "papermill": {
     "duration": 0.044051,
     "end_time": "2022-11-01T18:44:25.396730",
     "exception": false,
     "start_time": "2022-11-01T18:44:25.352679",
     "status": "completed"
    },
    "tags": []
   },
   "outputs": [],
   "source": [
    "# Complie model\n",
    "model.compile(loss='mse',optimizer=tf.keras.optimizers.Adam(learning_rate=1e-4), metrics=['accuracy'])"
   ]
  },
  {
   "cell_type": "code",
   "execution_count": 14,
   "id": "cd2990d5",
   "metadata": {
    "execution": {
     "iopub.execute_input": "2022-11-01T18:44:25.435382Z",
     "iopub.status.busy": "2022-11-01T18:44:25.434938Z",
     "iopub.status.idle": "2022-11-01T18:46:03.590510Z",
     "shell.execute_reply": "2022-11-01T18:46:03.589248Z"
    },
    "papermill": {
     "duration": 98.177847,
     "end_time": "2022-11-01T18:46:03.593358",
     "exception": false,
     "start_time": "2022-11-01T18:44:25.415511",
     "status": "completed"
    },
    "tags": []
   },
   "outputs": [
    {
     "name": "stderr",
     "output_type": "stream",
     "text": [
      "2022-11-01 18:44:25.742280: I tensorflow/compiler/mlir/mlir_graph_optimization_pass.cc:185] None of the MLIR Optimization Passes are enabled (registered 2)\n"
     ]
    },
    {
     "name": "stdout",
     "output_type": "stream",
     "text": [
      "Epoch 1/20\n"
     ]
    },
    {
     "name": "stderr",
     "output_type": "stream",
     "text": [
      "2022-11-01 18:44:42.694484: I tensorflow/stream_executor/cuda/cuda_dnn.cc:369] Loaded cuDNN version 8005\n"
     ]
    },
    {
     "name": "stdout",
     "output_type": "stream",
     "text": [
      "10/10 [==============================] - 29s 620ms/step - loss: 0.0525 - accuracy: 0.5757 - val_loss: 0.0324 - val_accuracy: 0.4706\n",
      "Epoch 2/20\n",
      "10/10 [==============================] - 3s 264ms/step - loss: 0.0324 - accuracy: 0.5867 - val_loss: 0.0226 - val_accuracy: 0.5859\n",
      "Epoch 3/20\n",
      "10/10 [==============================] - 3s 264ms/step - loss: 0.0278 - accuracy: 0.5605 - val_loss: 0.0175 - val_accuracy: 0.7059\n",
      "Epoch 4/20\n",
      "10/10 [==============================] - 3s 284ms/step - loss: 0.0264 - accuracy: 0.6110 - val_loss: 0.0168 - val_accuracy: 0.7059\n",
      "Epoch 5/20\n",
      "10/10 [==============================] - 3s 265ms/step - loss: 0.0228 - accuracy: 0.6672 - val_loss: 0.0184 - val_accuracy: 0.7059\n",
      "Epoch 6/20\n",
      "10/10 [==============================] - 3s 264ms/step - loss: 0.0209 - accuracy: 0.6790 - val_loss: 0.0180 - val_accuracy: 0.7059\n",
      "Epoch 7/20\n",
      "10/10 [==============================] - 3s 261ms/step - loss: 0.0197 - accuracy: 0.6750 - val_loss: 0.0159 - val_accuracy: 0.7059\n",
      "Epoch 8/20\n",
      "10/10 [==============================] - 3s 266ms/step - loss: 0.0187 - accuracy: 0.6850 - val_loss: 0.0149 - val_accuracy: 0.7059\n",
      "Epoch 9/20\n",
      "10/10 [==============================] - 3s 263ms/step - loss: 0.0182 - accuracy: 0.6837 - val_loss: 0.0138 - val_accuracy: 0.7059\n",
      "Epoch 10/20\n",
      "10/10 [==============================] - 3s 262ms/step - loss: 0.0179 - accuracy: 0.6850 - val_loss: 0.0140 - val_accuracy: 0.7059\n",
      "Epoch 11/20\n",
      "10/10 [==============================] - 3s 264ms/step - loss: 0.0176 - accuracy: 0.6825 - val_loss: 0.0134 - val_accuracy: 0.7059\n",
      "Epoch 12/20\n",
      "10/10 [==============================] - 3s 267ms/step - loss: 0.0177 - accuracy: 0.6850 - val_loss: 0.0131 - val_accuracy: 0.7059\n",
      "Epoch 13/20\n",
      "10/10 [==============================] - 3s 265ms/step - loss: 0.0176 - accuracy: 0.6850 - val_loss: 0.0132 - val_accuracy: 0.7059\n",
      "Epoch 14/20\n",
      "10/10 [==============================] - 3s 261ms/step - loss: 0.0176 - accuracy: 0.6773 - val_loss: 0.0128 - val_accuracy: 0.7059\n",
      "Epoch 15/20\n",
      "10/10 [==============================] - 3s 261ms/step - loss: 0.0174 - accuracy: 0.6850 - val_loss: 0.0131 - val_accuracy: 0.7059\n",
      "Epoch 16/20\n",
      "10/10 [==============================] - 3s 269ms/step - loss: 0.0176 - accuracy: 0.6850 - val_loss: 0.0128 - val_accuracy: 0.7059\n",
      "Epoch 17/20\n",
      "10/10 [==============================] - 3s 264ms/step - loss: 0.0175 - accuracy: 0.6850 - val_loss: 0.0139 - val_accuracy: 0.7059\n",
      "Epoch 18/20\n",
      "10/10 [==============================] - 3s 262ms/step - loss: 0.0172 - accuracy: 0.6850 - val_loss: 0.0126 - val_accuracy: 0.7059\n",
      "Epoch 19/20\n",
      "10/10 [==============================] - 3s 260ms/step - loss: 0.0173 - accuracy: 0.6850 - val_loss: 0.0137 - val_accuracy: 0.7059\n",
      "Epoch 20/20\n",
      "10/10 [==============================] - 3s 262ms/step - loss: 0.0173 - accuracy: 0.6850 - val_loss: 0.0127 - val_accuracy: 0.7059\n"
     ]
    }
   ],
   "source": [
    "history = model.fit(x=x_train,y=y_train,batch_size=20,epochs=20,\n",
    "                    validation_data=(x_test,y_test))"
   ]
  },
  {
   "cell_type": "markdown",
   "id": "51151631",
   "metadata": {
    "papermill": {
     "duration": 0.019613,
     "end_time": "2022-11-01T18:46:03.633550",
     "exception": false,
     "start_time": "2022-11-01T18:46:03.613937",
     "status": "completed"
    },
    "tags": []
   },
   "source": [
    "# Metrics"
   ]
  },
  {
   "cell_type": "code",
   "execution_count": 15,
   "id": "100ac30a",
   "metadata": {
    "execution": {
     "iopub.execute_input": "2022-11-01T18:46:03.675999Z",
     "iopub.status.busy": "2022-11-01T18:46:03.674406Z",
     "iopub.status.idle": "2022-11-01T18:46:04.127872Z",
     "shell.execute_reply": "2022-11-01T18:46:04.126402Z"
    },
    "papermill": {
     "duration": 0.476994,
     "end_time": "2022-11-01T18:46:04.130391",
     "exception": false,
     "start_time": "2022-11-01T18:46:03.653397",
     "status": "completed"
    },
    "tags": []
   },
   "outputs": [
    {
     "name": "stdout",
     "output_type": "stream",
     "text": [
      "dict_keys(['loss', 'accuracy', 'val_loss', 'val_accuracy'])\n"
     ]
    },
    {
     "data": {
      "image/png": "[encoded data removed]",
      "text/plain": [
       "<Figure size 432x288 with 1 Axes>"
      ]
     },
     "metadata": {
      "needs_background": "light"
     },
     "output_type": "display_data"
    },
    {
     "data": {
      "image/png": "[encoded data removed]",
      "text/plain": [
       "<Figure size 432x288 with 1 Axes>"
      ]
     },
     "metadata": {
      "needs_background": "light"
     },
     "output_type": "display_data"
    },
    {
     "data": {
      "text/plain": [
       "<Figure size 432x288 with 0 Axes>"
      ]
     },
     "metadata": {},
     "output_type": "display_data"
    }
   ],
   "source": [
    "print(history.history.keys())\n",
    "# summarize history for accuracy\n",
    "plt.plot(history.history['accuracy'])\n",
    "plt.plot(history.history['val_accuracy'])\n",
    "plt.title('model accuracy')\n",
    "plt.ylabel('accuracy')\n",
    "plt.xlabel('epoch')\n",
    "plt.legend(['train', 'test'], loc='upper left')\n",
    "plt.show()\n",
    "plt.savefig('accuracy.png')\n",
    "# summarize history for loss\n",
    "plt.plot(history.history['loss'])\n",
    "plt.plot(history.history['val_loss'])\n",
    "plt.title('model loss')\n",
    "plt.ylabel('loss')\n",
    "plt.xlabel('epoch')\n",
    "plt.legend(['train', 'test'], loc='upper left')\n",
    "plt.show()\n",
    "plt.savefig('loss.png')"
   ]
  },
  {
   "cell_type": "code",
   "execution_count": 16,
   "id": "9e6a78d2",
   "metadata": {
    "execution": {
     "iopub.execute_input": "2022-11-01T18:46:04.173983Z",
     "iopub.status.busy": "2022-11-01T18:46:04.172564Z",
     "iopub.status.idle": "2022-11-01T18:46:07.648017Z",
     "shell.execute_reply": "2022-11-01T18:46:07.647026Z"
    },
    "papermill": {
     "duration": 3.499733,
     "end_time": "2022-11-01T18:46:07.651169",
     "exception": false,
     "start_time": "2022-11-01T18:46:04.151436",
     "status": "completed"
    },
    "tags": []
   },
   "outputs": [],
   "source": [
    "model.save('inception_plate.h5')"
   ]
  },
  {
   "cell_type": "markdown",
   "id": "4b75abe2",
   "metadata": {
    "papermill": {
     "duration": 0.020108,
     "end_time": "2022-11-01T18:46:07.691707",
     "exception": false,
     "start_time": "2022-11-01T18:46:07.671599",
     "status": "completed"
    },
    "tags": []
   },
   "source": [
    "# Train YOLOv5"
   ]
  },
  {
   "cell_type": "code",
   "execution_count": 17,
   "id": "984b97d8",
   "metadata": {
    "execution": {
     "iopub.execute_input": "2022-11-01T18:46:07.734468Z",
     "iopub.status.busy": "2022-11-01T18:46:07.734088Z",
     "iopub.status.idle": "2022-11-01T18:46:11.498789Z",
     "shell.execute_reply": "2022-11-01T18:46:11.497637Z"
    },
    "papermill": {
     "duration": 3.78906,
     "end_time": "2022-11-01T18:46:11.501391",
     "exception": false,
     "start_time": "2022-11-01T18:46:07.712331",
     "status": "completed"
    },
    "tags": []
   },
   "outputs": [
    {
     "name": "stdout",
     "output_type": "stream",
     "text": [
      "Cloning into 'yolov5'...\r\n",
      "remote: Enumerating objects: 14375, done.\u001b[K\r\n",
      "remote: Counting objects: 100% (33/33), done.\u001b[K\r\n",
      "remote: Compressing objects: 100% (27/27), done.\u001b[K\r\n",
      "remote: Total 14375 (delta 16), reused 13 (delta 6), pack-reused 14342\u001b[K\r\n",
      "Receiving objects: 100% (14375/14375), 13.45 MiB | 18.27 MiB/s, done.\r\n",
      "Resolving deltas: 100% (9921/9921), done.\r\n"
     ]
    }
   ],
   "source": [
    "!git clone https://github.com/ultralytics/yolov5"
   ]
  },
  {
   "cell_type": "code",
   "execution_count": 18,
   "id": "c27873f0",
   "metadata": {
    "execution": {
     "iopub.execute_input": "2022-11-01T18:46:11.546333Z",
     "iopub.status.busy": "2022-11-01T18:46:11.545970Z",
     "iopub.status.idle": "2022-11-01T18:46:23.781468Z",
     "shell.execute_reply": "2022-11-01T18:46:23.780138Z"
    },
    "papermill": {
     "duration": 12.26081,
     "end_time": "2022-11-01T18:46:23.784054",
     "exception": false,
     "start_time": "2022-11-01T18:46:11.523244",
     "status": "completed"
    },
    "tags": []
   },
   "outputs": [
    {
     "name": "stdout",
     "output_type": "stream",
     "text": [
      "Requirement already satisfied: matplotlib>=3.2.2 in /opt/conda/lib/python3.7/site-packages (from -r ./yolov5/requirements.txt (line 5)) (3.5.3)\r\n",
      "Requirement already satisfied: numpy>=1.18.5 in /opt/conda/lib/python3.7/site-packages (from -r ./yolov5/requirements.txt (line 6)) (1.21.6)\r\n",
      "Requirement already satisfied: opencv-python>=4.1.1 in /opt/conda/lib/python3.7/site-packages (from -r ./yolov5/requirements.txt (line 7)) (4.5.4.60)\r\n",
      "Requirement already satisfied: Pillow>=7.1.2 in /opt/conda/lib/python3.7/site-packages (from -r ./yolov5/requirements.txt (line 8)) (9.1.1)\r\n",
      "Requirement already satisfied: PyYAML>=5.3.1 in /opt/conda/lib/python3.7/site-packages (from -r ./yolov5/requirements.txt (line 9)) (6.0)\r\n",
      "Requirement already satisfied: requests>=2.23.0 in /opt/conda/lib/python3.7/site-packages (from -r ./yolov5/requirements.txt (line 10)) (2.28.1)\r\n",
      "Requirement already satisfied: scipy>=1.4.1 in /opt/conda/lib/python3.7/site-packages (from -r ./yolov5/requirements.txt (line 11)) (1.7.3)\r\n",
      "Requirement already satisfied: torch>=1.7.0 in /opt/conda/lib/python3.7/site-packages (from -r ./yolov5/requirements.txt (line 12)) (1.11.0)\r\n",
      "Requirement already satisfied: torchvision>=0.8.1 in /opt/conda/lib/python3.7/site-packages (from -r ./yolov5/requirements.txt (line 13)) (0.12.0)\r\n",
      "Requirement already satisfied: tqdm>=4.64.0 in /opt/conda/lib/python3.7/site-packages (from -r ./yolov5/requirements.txt (line 14)) (4.64.0)\r\n",
      "Requirement already satisfied: tensorboard>=2.4.1 in /opt/conda/lib/python3.7/site-packages (from -r ./yolov5/requirements.txt (line 18)) (2.10.0)\r\n",
      "Requirement already satisfied: pandas>=1.1.4 in /opt/conda/lib/python3.7/site-packages (from -r ./yolov5/requirements.txt (line 23)) (1.3.5)\r\n",
      "Requirement already satisfied: seaborn>=0.11.0 in /opt/conda/lib/python3.7/site-packages (from -r ./yolov5/requirements.txt (line 24)) (0.11.2)\r\n",
      "Requirement already satisfied: ipython in /opt/conda/lib/python3.7/site-packages (from -r ./yolov5/requirements.txt (line 41)) (7.33.0)\r\n",
      "Requirement already satisfied: psutil in /opt/conda/lib/python3.7/site-packages (from -r ./yolov5/requirements.txt (line 42)) (5.9.1)\r\n",
      "Collecting thop>=0.1.1\r\n",
      "  Downloading thop-0.1.1.post2209072238-py3-none-any.whl (15 kB)\r\n",
      "Requirement already satisfied: python-dateutil>=2.7 in /opt/conda/lib/python3.7/site-packages (from matplotlib>=3.2.2->-r ./yolov5/requirements.txt (line 5)) (2.8.2)\r\n",
      "Requirement already satisfied: kiwisolver>=1.0.1 in /opt/conda/lib/python3.7/site-packages (from matplotlib>=3.2.2->-r ./yolov5/requirements.txt (line 5)) (1.4.3)\r\n",
      "Requirement already satisfied: fonttools>=4.22.0 in /opt/conda/lib/python3.7/site-packages (from matplotlib>=3.2.2->-r ./yolov5/requirements.txt (line 5)) (4.33.3)\r\n",
      "Requirement already satisfied: cycler>=0.10 in /opt/conda/lib/python3.7/site-packages (from matplotlib>=3.2.2->-r ./yolov5/requirements.txt (line 5)) (0.11.0)\r\n",
      "Requirement already satisfied: pyparsing>=2.2.1 in /opt/conda/lib/python3.7/site-packages (from matplotlib>=3.2.2->-r ./yolov5/requirements.txt (line 5)) (3.0.9)\r\n",
      "Requirement already satisfied: packaging>=20.0 in /opt/conda/lib/python3.7/site-packages (from matplotlib>=3.2.2->-r ./yolov5/requirements.txt (line 5)) (21.3)\r\n",
      "Requirement already satisfied: charset-normalizer<3,>=2 in /opt/conda/lib/python3.7/site-packages (from requests>=2.23.0->-r ./yolov5/requirements.txt (line 10)) (2.1.0)\r\n",
      "Requirement already satisfied: certifi>=2017.4.17 in /opt/conda/lib/python3.7/site-packages (from requests>=2.23.0->-r ./yolov5/requirements.txt (line 10)) (2022.6.15.2)\r\n",
      "Requirement already satisfied: urllib3<1.27,>=1.21.1 in /opt/conda/lib/python3.7/site-packages (from requests>=2.23.0->-r ./yolov5/requirements.txt (line 10)) (1.26.12)\r\n",
      "Requirement already satisfied: idna<4,>=2.5 in /opt/conda/lib/python3.7/site-packages (from requests>=2.23.0->-r ./yolov5/requirements.txt (line 10)) (3.3)\r\n",
      "Requirement already satisfied: typing-extensions in /opt/conda/lib/python3.7/site-packages (from torch>=1.7.0->-r ./yolov5/requirements.txt (line 12)) (4.3.0)\r\n",
      "Requirement already satisfied: tensorboard-plugin-wit>=1.6.0 in /opt/conda/lib/python3.7/site-packages (from tensorboard>=2.4.1->-r ./yolov5/requirements.txt (line 18)) (1.8.1)\r\n",
      "Requirement already satisfied: tensorboard-data-server<0.7.0,>=0.6.0 in /opt/conda/lib/python3.7/site-packages (from tensorboard>=2.4.1->-r ./yolov5/requirements.txt (line 18)) (0.6.1)\r\n",
      "Requirement already satisfied: google-auth<3,>=1.6.3 in /opt/conda/lib/python3.7/site-packages (from tensorboard>=2.4.1->-r ./yolov5/requirements.txt (line 18)) (1.35.0)\r\n",
      "Requirement already satisfied: absl-py>=0.4 in /opt/conda/lib/python3.7/site-packages (from tensorboard>=2.4.1->-r ./yolov5/requirements.txt (line 18)) (0.15.0)\r\n",
      "Requirement already satisfied: google-auth-oauthlib<0.5,>=0.4.1 in /opt/conda/lib/python3.7/site-packages (from tensorboard>=2.4.1->-r ./yolov5/requirements.txt (line 18)) (0.4.6)\r\n",
      "Requirement already satisfied: wheel>=0.26 in /opt/conda/lib/python3.7/site-packages (from tensorboard>=2.4.1->-r ./yolov5/requirements.txt (line 18)) (0.37.1)\r\n",
      "Requirement already satisfied: protobuf<3.20,>=3.9.2 in /opt/conda/lib/python3.7/site-packages (from tensorboard>=2.4.1->-r ./yolov5/requirements.txt (line 18)) (3.19.4)\r\n",
      "Requirement already satisfied: werkzeug>=1.0.1 in /opt/conda/lib/python3.7/site-packages (from tensorboard>=2.4.1->-r ./yolov5/requirements.txt (line 18)) (2.2.2)\r\n",
      "Requirement already satisfied: markdown>=2.6.8 in /opt/conda/lib/python3.7/site-packages (from tensorboard>=2.4.1->-r ./yolov5/requirements.txt (line 18)) (3.3.7)\r\n",
      "Requirement already satisfied: grpcio>=1.24.3 in /opt/conda/lib/python3.7/site-packages (from tensorboard>=2.4.1->-r ./yolov5/requirements.txt (line 18)) (1.43.0)\r\n",
      "Requirement already satisfied: setuptools>=41.0.0 in /opt/conda/lib/python3.7/site-packages (from tensorboard>=2.4.1->-r ./yolov5/requirements.txt (line 18)) (59.8.0)\r\n",
      "Requirement already satisfied: pytz>=2017.3 in /opt/conda/lib/python3.7/site-packages (from pandas>=1.1.4->-r ./yolov5/requirements.txt (line 23)) (2022.1)\r\n",
      "Requirement already satisfied: traitlets>=4.2 in /opt/conda/lib/python3.7/site-packages (from ipython->-r ./yolov5/requirements.txt (line 41)) (5.3.0)\r\n",
      "Requirement already satisfied: pygments in /opt/conda/lib/python3.7/site-packages (from ipython->-r ./yolov5/requirements.txt (line 41)) (2.12.0)\r\n",
      "Requirement already satisfied: prompt-toolkit!=3.0.0,!=3.0.1,<3.1.0,>=2.0.0 in /opt/conda/lib/python3.7/site-packages (from ipython->-r ./yolov5/requirements.txt (line 41)) (3.0.30)\r\n",
      "Requirement already satisfied: backcall in /opt/conda/lib/python3.7/site-packages (from ipython->-r ./yolov5/requirements.txt (line 41)) (0.2.0)\r\n",
      "Requirement already satisfied: jedi>=0.16 in /opt/conda/lib/python3.7/site-packages (from ipython->-r ./yolov5/requirements.txt (line 41)) (0.18.1)\r\n",
      "Requirement already satisfied: pickleshare in /opt/conda/lib/python3.7/site-packages (from ipython->-r ./yolov5/requirements.txt (line 41)) (0.7.5)\r\n",
      "Requirement already satisfied: pexpect>4.3 in /opt/conda/lib/python3.7/site-packages (from ipython->-r ./yolov5/requirements.txt (line 41)) (4.8.0)\r\n",
      "Requirement already satisfied: matplotlib-inline in /opt/conda/lib/python3.7/site-packages (from ipython->-r ./yolov5/requirements.txt (line 41)) (0.1.3)\r\n",
      "Requirement already satisfied: decorator in /opt/conda/lib/python3.7/site-packages (from ipython->-r ./yolov5/requirements.txt (line 41)) (5.1.1)\r\n",
      "Requirement already satisfied: six in /opt/conda/lib/python3.7/site-packages (from absl-py>=0.4->tensorboard>=2.4.1->-r ./yolov5/requirements.txt (line 18)) (1.15.0)\r\n",
      "Requirement already satisfied: cachetools<5.0,>=2.0.0 in /opt/conda/lib/python3.7/site-packages (from google-auth<3,>=1.6.3->tensorboard>=2.4.1->-r ./yolov5/requirements.txt (line 18)) (4.2.4)\r\n",
      "Requirement already satisfied: pyasn1-modules>=0.2.1 in /opt/conda/lib/python3.7/site-packages (from google-auth<3,>=1.6.3->tensorboard>=2.4.1->-r ./yolov5/requirements.txt (line 18)) (0.2.7)\r\n",
      "Requirement already satisfied: rsa<5,>=3.1.4 in /opt/conda/lib/python3.7/site-packages (from google-auth<3,>=1.6.3->tensorboard>=2.4.1->-r ./yolov5/requirements.txt (line 18)) (4.8)\r\n",
      "Requirement already satisfied: requests-oauthlib>=0.7.0 in /opt/conda/lib/python3.7/site-packages (from google-auth-oauthlib<0.5,>=0.4.1->tensorboard>=2.4.1->-r ./yolov5/requirements.txt (line 18)) (1.3.1)\r\n",
      "Requirement already satisfied: parso<0.9.0,>=0.8.0 in /opt/conda/lib/python3.7/site-packages (from jedi>=0.16->ipython->-r ./yolov5/requirements.txt (line 41)) (0.8.3)\r\n",
      "Requirement already satisfied: importlib-metadata>=4.4 in /opt/conda/lib/python3.7/site-packages (from markdown>=2.6.8->tensorboard>=2.4.1->-r ./yolov5/requirements.txt (line 18)) (4.12.0)\r\n",
      "Requirement already satisfied: ptyprocess>=0.5 in /opt/conda/lib/python3.7/site-packages (from pexpect>4.3->ipython->-r ./yolov5/requirements.txt (line 41)) (0.7.0)\r\n",
      "Requirement already satisfied: wcwidth in /opt/conda/lib/python3.7/site-packages (from prompt-toolkit!=3.0.0,!=3.0.1,<3.1.0,>=2.0.0->ipython->-r ./yolov5/requirements.txt (line 41)) (0.2.5)\r\n",
      "Requirement already satisfied: MarkupSafe>=2.1.1 in /opt/conda/lib/python3.7/site-packages (from werkzeug>=1.0.1->tensorboard>=2.4.1->-r ./yolov5/requirements.txt (line 18)) (2.1.1)\r\n",
      "Requirement already satisfied: zipp>=0.5 in /opt/conda/lib/python3.7/site-packages (from importlib-metadata>=4.4->markdown>=2.6.8->tensorboard>=2.4.1->-r ./yolov5/requirements.txt (line 18)) (3.8.0)\r\n",
      "Requirement already satisfied: pyasn1<0.5.0,>=0.4.6 in /opt/conda/lib/python3.7/site-packages (from pyasn1-modules>=0.2.1->google-auth<3,>=1.6.3->tensorboard>=2.4.1->-r ./yolov5/requirements.txt (line 18)) (0.4.8)\r\n",
      "Requirement already satisfied: oauthlib>=3.0.0 in /opt/conda/lib/python3.7/site-packages (from requests-oauthlib>=0.7.0->google-auth-oauthlib<0.5,>=0.4.1->tensorboard>=2.4.1->-r ./yolov5/requirements.txt (line 18)) (3.2.0)\r\n",
      "Installing collected packages: thop\r\n",
      "Successfully installed thop-0.1.1.post2209072238\r\n",
      "\u001b[33mWARNING: Running pip as the 'root' user can result in broken permissions and conflicting behaviour with the system package manager. It is recommended to use a virtual environment instead: https://pip.pypa.io/warnings/venv\u001b[0m\u001b[33m\r\n",
      "\u001b[0m"
     ]
    }
   ],
   "source": [
    "!pip install -r ./yolov5/requirements.txt"
   ]
  },
  {
   "cell_type": "code",
   "execution_count": 19,
   "id": "8cb4ecf5",
   "metadata": {
    "execution": {
     "iopub.execute_input": "2022-11-01T18:46:23.831925Z",
     "iopub.status.busy": "2022-11-01T18:46:23.830905Z",
     "iopub.status.idle": "2022-11-01T18:46:23.836601Z",
     "shell.execute_reply": "2022-11-01T18:46:23.835660Z"
    },
    "papermill": {
     "duration": 0.031531,
     "end_time": "2022-11-01T18:46:23.838565",
     "exception": false,
     "start_time": "2022-11-01T18:46:23.807034",
     "status": "completed"
    },
    "tags": []
   },
   "outputs": [],
   "source": [
    "os.mkdir('yolov5/data_images')\n",
    "os.mkdir('yolov5/data_images/train')\n",
    "os.mkdir('yolov5/data_images/test')"
   ]
  },
  {
   "cell_type": "code",
   "execution_count": 20,
   "id": "63a32fc1",
   "metadata": {
    "execution": {
     "iopub.execute_input": "2022-11-01T18:46:23.884583Z",
     "iopub.status.busy": "2022-11-01T18:46:23.883749Z",
     "iopub.status.idle": "2022-11-01T18:46:24.298673Z",
     "shell.execute_reply": "2022-11-01T18:46:24.296395Z"
    },
    "papermill": {
     "duration": 0.441005,
     "end_time": "2022-11-01T18:46:24.301361",
     "exception": false,
     "start_time": "2022-11-01T18:46:23.860356",
     "status": "completed"
    },
    "tags": []
   },
   "outputs": [],
   "source": [
    "import shutil\n",
    "\n",
    "for file_name in os.listdir(TRAIN_PATH):\n",
    "    source = TRAIN_PATH + '/' + file_name\n",
    "    destination = 'yolov5/data_images/train/' + file_name\n",
    "    if os.path.isfile(source):\n",
    "        shutil.copy(source, destination)"
   ]
  },
  {
   "cell_type": "code",
   "execution_count": 21,
   "id": "5486a5f0",
   "metadata": {
    "execution": {
     "iopub.execute_input": "2022-11-01T18:46:24.353619Z",
     "iopub.status.busy": "2022-11-01T18:46:24.352968Z",
     "iopub.status.idle": "2022-11-01T18:46:24.409037Z",
     "shell.execute_reply": "2022-11-01T18:46:24.408114Z"
    },
    "papermill": {
     "duration": 0.087101,
     "end_time": "2022-11-01T18:46:24.411476",
     "exception": false,
     "start_time": "2022-11-01T18:46:24.324375",
     "status": "completed"
    },
    "tags": []
   },
   "outputs": [],
   "source": [
    "for file_name in os.listdir(TEST_PATH):\n",
    "    source = TEST_PATH + '/' + file_name\n",
    "    destination = 'yolov5/data_images/test/' + file_name\n",
    "    if os.path.isfile(source):\n",
    "        shutil.copy(source, destination)"
   ]
  },
  {
   "cell_type": "code",
   "execution_count": 22,
   "id": "3ee43074",
   "metadata": {
    "execution": {
     "iopub.execute_input": "2022-11-01T18:46:24.458531Z",
     "iopub.status.busy": "2022-11-01T18:46:24.457905Z",
     "iopub.status.idle": "2022-11-01T18:46:39.398880Z",
     "shell.execute_reply": "2022-11-01T18:46:39.396652Z"
    },
    "papermill": {
     "duration": 14.967276,
     "end_time": "2022-11-01T18:46:39.401946",
     "exception": false,
     "start_time": "2022-11-01T18:46:24.434670",
     "status": "completed"
    },
    "tags": []
   },
   "outputs": [
    {
     "name": "stdout",
     "output_type": "stream",
     "text": [
      "Collecting GPUtil\r\n",
      "  Downloading GPUtil-1.4.0.tar.gz (5.5 kB)\r\n",
      "  Preparing metadata (setup.py) ... \u001b[?25l-\b \bdone\r\n",
      "\u001b[?25hBuilding wheels for collected packages: GPUtil\r\n",
      "  Building wheel for GPUtil (setup.py) ... \u001b[?25l-\b \b\\\b \bdone\r\n",
      "\u001b[?25h  Created wheel for GPUtil: filename=GPUtil-1.4.0-py3-none-any.whl size=7411 sha256=a04ec4e958b85d7d7f32d1cd5ffa3a44225e9c81f5147c1c369d70c6854e334b\r\n",
      "  Stored in directory: /root/.cache/pip/wheels/6e/f8/83/534c52482d6da64622ddbf72cd93c35d2ef2881b78fd08ff0c\r\n",
      "Successfully built GPUtil\r\n",
      "Installing collected packages: GPUtil\r\n",
      "Successfully installed GPUtil-1.4.0\r\n",
      "\u001b[33mWARNING: Running pip as the 'root' user can result in broken permissions and conflicting behaviour with the system package manager. It is recommended to use a virtual environment instead: https://pip.pypa.io/warnings/venv\u001b[0m\u001b[33m\r\n",
      "\u001b[0mInitial GPU Usage\n",
      "| ID | GPU | MEM |\n",
      "------------------\n",
      "|  0 |  0% | 98% |\n",
      "GPU Usage after emptying the cache\n",
      "| ID | GPU  | MEM |\n",
      "-------------------\n",
      "|  0 | 100% |  2% |\n"
     ]
    }
   ],
   "source": [
    "!pip install GPUtil\n",
    "\n",
    "import torch\n",
    "from GPUtil import showUtilization as gpu_usage\n",
    "from numba import cuda\n",
    "\n",
    "def free_gpu_cache():\n",
    "    print(\"Initial GPU Usage\")\n",
    "    gpu_usage()                             \n",
    "\n",
    "    torch.cuda.empty_cache()\n",
    "\n",
    "    cuda.select_device(0)\n",
    "    cuda.close()\n",
    "    cuda.select_device(0)\n",
    "\n",
    "    print(\"GPU Usage after emptying the cache\")\n",
    "    gpu_usage()\n",
    "\n",
    "free_gpu_cache()  "
   ]
  },
  {
   "cell_type": "code",
   "execution_count": 23,
   "id": "b9204316",
   "metadata": {
    "execution": {
     "iopub.execute_input": "2022-11-01T18:46:39.451160Z",
     "iopub.status.busy": "2022-11-01T18:46:39.450166Z",
     "iopub.status.idle": "2022-11-01T19:11:47.892420Z",
     "shell.execute_reply": "2022-11-01T19:11:47.890912Z"
    },
    "papermill": {
     "duration": 1508.469154,
     "end_time": "2022-11-01T19:11:47.895148",
     "exception": false,
     "start_time": "2022-11-01T18:46:39.425994",
     "status": "completed"
    },
    "tags": []
   },
   "outputs": [
    {
     "name": "stdout",
     "output_type": "stream",
     "text": [
      "\u001b[34m\u001b[1mwandb\u001b[0m: (1) Create a W&B account\r\n",
      "\u001b[34m\u001b[1mwandb\u001b[0m: (2) Use an existing W&B account\r\n",
      "\u001b[34m\u001b[1mwandb\u001b[0m: (3) Don't visualize my results\r\n",
      "\u001b[34m\u001b[1mwandb\u001b[0m: Enter your choice: (30 second timeout) \r\n",
      "\u001b[34m\u001b[1mwandb\u001b[0m: W&B disabled due to login timeout.\r\n",
      "\u001b[34m\u001b[1mtrain: \u001b[0mweights=yolov5/yolov5s.pt, cfg=./yolov5/models/yolov5s.yaml, data=../input/yamlsecond/data1.yaml, hyp=yolov5/data/hyps/hyp.scratch-low.yaml, epochs=100, batch_size=8, imgsz=640, rect=False, resume=False, nosave=False, noval=False, noautoanchor=False, noplots=False, evolve=None, bucket=, cache=None, image_weights=False, device=, multi_scale=False, single_cls=False, optimizer=SGD, sync_bn=False, workers=0, project=yolov5/runs/train, name=Model, exist_ok=False, quad=False, cos_lr=False, label_smoothing=0.0, patience=100, freeze=[0], save_period=-1, seed=0, local_rank=-1, entity=None, upload_dataset=False, bbox_interval=-1, artifact_alias=latest\r\n",
      "\u001b[34m\u001b[1mgithub: \u001b[0mup to date with https://github.com/ultralytics/yolov5 ✅\r\n",
      "YOLOv5 🚀 v6.2-224-g82a5585 Python-3.7.12 torch-1.11.0 CUDA:0 (Tesla P100-PCIE-16GB, 16281MiB)\r\n",
      "\r\n",
      "\u001b[34m\u001b[1mhyperparameters: \u001b[0mlr0=0.01, lrf=0.01, momentum=0.937, weight_decay=0.0005, warmup_epochs=3.0, warmup_momentum=0.8, warmup_bias_lr=0.1, box=0.05, cls=0.5, cls_pw=1.0, obj=1.0, obj_pw=1.0, iou_t=0.2, anchor_t=4.0, fl_gamma=0.0, hsv_h=0.015, hsv_s=0.7, hsv_v=0.4, degrees=0.0, translate=0.1, scale=0.5, shear=0.0, perspective=0.0, flipud=0.0, fliplr=0.5, mosaic=1.0, mixup=0.0, copy_paste=0.0\r\n",
      "\u001b[34m\u001b[1mClearML: \u001b[0mrun 'pip install clearml' to automatically track, visualize and remotely train YOLOv5 🚀 in ClearML\r\n",
      "\u001b[34m\u001b[1mComet: \u001b[0mrun 'pip install comet_ml' to automatically track and visualize YOLOv5 🚀 runs in Comet\r\n",
      "\u001b[34m\u001b[1mTensorBoard: \u001b[0mStart with 'tensorboard --logdir yolov5/runs/train', view at http://localhost:6006/\r\n",
      "Downloading https://ultralytics.com/assets/Arial.ttf to /root/.config/Ultralytics/Arial.ttf...\r\n",
      "100%|████████████████████████████████████████| 755k/755k [00:00<00:00, 39.0MB/s]\r\n",
      "Downloading https://github.com/ultralytics/yolov5/releases/download/v6.2/yolov5s.pt to yolov5/yolov5s.pt...\r\n",
      "100%|███████████████████████████████████████| 14.1M/14.1M [00:00<00:00, 207MB/s]\r\n",
      "\r\n",
      "Overriding model.yaml nc=80 with nc=1\r\n",
      "\r\n",
      "                 from  n    params  module                                  arguments                     \r\n",
      "  0                -1  1      3520  models.common.Conv                      [3, 32, 6, 2, 2]              \r\n",
      "  1                -1  1     18560  models.common.Conv                      [32, 64, 3, 2]                \r\n",
      "  2                -1  1     18816  models.common.C3                        [64, 64, 1]                   \r\n",
      "  3                -1  1     73984  models.common.Conv                      [64, 128, 3, 2]               \r\n",
      "  4                -1  2    115712  models.common.C3                        [128, 128, 2]                 \r\n",
      "  5                -1  1    295424  models.common.Conv                      [128, 256, 3, 2]              \r\n",
      "  6                -1  3    625152  models.common.C3                        [256, 256, 3]                 \r\n",
      "  7                -1  1   1180672  models.common.Conv                      [256, 512, 3, 2]              \r\n",
      "  8                -1  1   1182720  models.common.C3                        [512, 512, 1]                 \r\n",
      "  9                -1  1    656896  models.common.SPPF                      [512, 512, 5]                 \r\n",
      " 10                -1  1    131584  models.common.Conv                      [512, 256, 1, 1]              \r\n",
      " 11                -1  1         0  torch.nn.modules.upsampling.Upsample    [None, 2, 'nearest']          \r\n",
      " 12           [-1, 6]  1         0  models.common.Concat                    [1]                           \r\n",
      " 13                -1  1    361984  models.common.C3                        [512, 256, 1, False]          \r\n",
      " 14                -1  1     33024  models.common.Conv                      [256, 128, 1, 1]              \r\n",
      " 15                -1  1         0  torch.nn.modules.upsampling.Upsample    [None, 2, 'nearest']          \r\n",
      " 16           [-1, 4]  1         0  models.common.Concat                    [1]                           \r\n",
      " 17                -1  1     90880  models.common.C3                        [256, 128, 1, False]          \r\n",
      " 18                -1  1    147712  models.common.Conv                      [128, 128, 3, 2]              \r\n",
      " 19          [-1, 14]  1         0  models.common.Concat                    [1]                           \r\n",
      " 20                -1  1    296448  models.common.C3                        [256, 256, 1, False]          \r\n",
      " 21                -1  1    590336  models.common.Conv                      [256, 256, 3, 2]              \r\n",
      " 22          [-1, 10]  1         0  models.common.Concat                    [1]                           \r\n",
      " 23                -1  1   1182720  models.common.C3                        [512, 512, 1, False]          \r\n",
      " 24      [17, 20, 23]  1     16182  models.yolo.Detect                      [1, [[10, 13, 16, 30, 33, 23], [30, 61, 62, 45, 59, 119], [116, 90, 156, 198, 373, 326]], [128, 256, 512]]\r\n",
      "YOLOv5s summary: 214 layers, 7022326 parameters, 7022326 gradients, 15.9 GFLOPs\r\n",
      "\r\n",
      "Transferred 342/349 items from yolov5/yolov5s.pt\r\n",
      "\u001b[34m\u001b[1mAMP: \u001b[0mchecks passed ✅\r\n",
      "\u001b[34m\u001b[1moptimizer:\u001b[0m SGD(lr=0.01) with parameter groups 57 weight(decay=0.0), 60 weight(decay=0.0005), 60 bias\r\n",
      "\u001b[34m\u001b[1malbumentations: \u001b[0mBlur(p=0.01, blur_limit=(3, 7)), MedianBlur(p=0.01, blur_limit=(3, 7)), ToGray(p=0.01), CLAHE(p=0.01, clip_limit=(1, 4.0), tile_grid_size=(8, 8))\r\n",
      "\u001b[34m\u001b[1mtrain: \u001b[0mScanning '/kaggle/working/yolov5/data_images/train' images and labels...2\u001b[0m\r\n",
      "\u001b[34m\u001b[1mtrain: \u001b[0mNew cache created: /kaggle/working/yolov5/data_images/train.cache\r\n",
      "\u001b[34m\u001b[1mval: \u001b[0mScanning '/kaggle/working/yolov5/data_images/test' images and labels...25 f\u001b[0m\r\n",
      "\u001b[34m\u001b[1mval: \u001b[0mNew cache created: /kaggle/working/yolov5/data_images/test.cache\r\n",
      "\r\n",
      "\u001b[34m\u001b[1mAutoAnchor: \u001b[0m3.46 anchors/target, 1.000 Best Possible Recall (BPR). Current anchors are a good fit to dataset ✅\r\n",
      "Plotting labels to yolov5/runs/train/Model/labels.jpg... \r\n",
      "Image sizes 640 train, 640 val\r\n",
      "Using 0 dataloader workers\r\n",
      "Logging results to \u001b[1myolov5/runs/train/Model\u001b[0m\r\n",
      "Starting training for 100 epochs...\r\n",
      "\r\n",
      "      Epoch    GPU_mem   box_loss   obj_loss   cls_loss  Instances       Size\r\n",
      "       0/99      2.38G     0.1118    0.02824          0         20        640: 1\r\n",
      "                 Class     Images  Instances          P          R      mAP50   \r\n",
      "                   all         25         25    0.00147       0.44    0.00136   0.000428\r\n",
      "\r\n",
      "      Epoch    GPU_mem   box_loss   obj_loss   cls_loss  Instances       Size\r\n",
      "       1/99      3.06G    0.09109    0.02272          0         18        640: 1\r\n",
      "                 Class     Images  Instances          P          R      mAP50   \r\n",
      "                   all         25         25    0.00267        0.8     0.0228    0.00698\r\n",
      "\r\n",
      "      Epoch    GPU_mem   box_loss   obj_loss   cls_loss  Instances       Size\r\n",
      "       2/99      3.06G    0.07842    0.02001          0         15        640: 1\r\n",
      "                 Class     Images  Instances          P          R      mAP50   \r\n",
      "                   all         25         25    0.00267        0.8     0.0708     0.0136\r\n",
      "\r\n",
      "      Epoch    GPU_mem   box_loss   obj_loss   cls_loss  Instances       Size\r\n",
      "       3/99      3.06G    0.07588    0.01843          0         16        640: 1\r\n",
      "                 Class     Images  Instances          P          R      mAP50   \r\n",
      "                   all         25         25     0.0028       0.84      0.116     0.0246\r\n",
      "\r\n",
      "      Epoch    GPU_mem   box_loss   obj_loss   cls_loss  Instances       Size\r\n",
      "       4/99      3.06G    0.07567    0.01756          0         12        640: 1\r\n",
      "                 Class     Images  Instances          P          R      mAP50   \r\n",
      "                   all         25         25     0.0032       0.96      0.446     0.0896\r\n",
      "\r\n",
      "      Epoch    GPU_mem   box_loss   obj_loss   cls_loss  Instances       Size\r\n",
      "       5/99      3.06G    0.07113    0.01827          0         19        640: 1\r\n",
      "                 Class     Images  Instances          P          R      mAP50   \r\n",
      "                   all         25         25     0.0293       0.68      0.114     0.0195\r\n",
      "\r\n",
      "      Epoch    GPU_mem   box_loss   obj_loss   cls_loss  Instances       Size\r\n",
      "       6/99      3.06G    0.06149    0.01892          0         22        640: 1\r\n",
      "                 Class     Images  Instances          P          R      mAP50   \r\n",
      "                   all         25         25      0.458       0.76      0.757      0.232\r\n",
      "\r\n",
      "      Epoch    GPU_mem   box_loss   obj_loss   cls_loss  Instances       Size\r\n",
      "       7/99      3.06G    0.05667    0.01684          0         12        640: 1\r\n",
      "                 Class     Images  Instances          P          R      mAP50   \r\n",
      "                   all         25         25      0.599       0.64      0.649      0.211\r\n",
      "\r\n",
      "      Epoch    GPU_mem   box_loss   obj_loss   cls_loss  Instances       Size\r\n",
      "       8/99      3.06G    0.05043    0.01693          0         17        640: 1\r\n",
      "                 Class     Images  Instances          P          R      mAP50   \r\n",
      "                   all         25         25      0.905       0.72      0.847      0.399\r\n",
      "\r\n",
      "      Epoch    GPU_mem   box_loss   obj_loss   cls_loss  Instances       Size\r\n",
      "       9/99      3.06G    0.05223    0.01679          0         13        640: 1\r\n",
      "                 Class     Images  Instances          P          R      mAP50   \r\n",
      "                   all         25         25      0.442       0.76      0.433      0.149\r\n",
      "\r\n",
      "      Epoch    GPU_mem   box_loss   obj_loss   cls_loss  Instances       Size\r\n",
      "      10/99      3.06G    0.05078    0.01593          0         16        640: 1\r\n",
      "                 Class     Images  Instances          P          R      mAP50   \r\n",
      "                   all         25         25          1      0.789      0.898      0.368\r\n",
      "\r\n",
      "      Epoch    GPU_mem   box_loss   obj_loss   cls_loss  Instances       Size\r\n",
      "      11/99      3.06G    0.05003     0.0153          0         22        640: 1\r\n",
      "                 Class     Images  Instances          P          R      mAP50   \r\n",
      "                   all         25         25      0.733       0.76       0.78      0.409\r\n",
      "\r\n",
      "      Epoch    GPU_mem   box_loss   obj_loss   cls_loss  Instances       Size\r\n",
      "      12/99      3.06G    0.04549    0.01542          0         12        640: 1\r\n",
      "                 Class     Images  Instances          P          R      mAP50   \r\n",
      "                   all         25         25      0.958       0.76      0.896      0.501\r\n",
      "\r\n",
      "      Epoch    GPU_mem   box_loss   obj_loss   cls_loss  Instances       Size\r\n",
      "      13/99      3.06G    0.04407    0.01432          0         14        640: 1\r\n",
      "                 Class     Images  Instances          P          R      mAP50   \r\n",
      "                   all         25         25          1      0.759      0.906      0.379\r\n",
      "\r\n",
      "      Epoch    GPU_mem   box_loss   obj_loss   cls_loss  Instances       Size\r\n",
      "      14/99      3.06G    0.04183    0.01254          0         15        640: 1\r\n",
      "                 Class     Images  Instances          P          R      mAP50   \r\n",
      "                   all         25         25      0.912       0.83      0.949      0.495\r\n",
      "\r\n",
      "      Epoch    GPU_mem   box_loss   obj_loss   cls_loss  Instances       Size\r\n",
      "      15/99      3.06G    0.04076    0.01242          0          8        640: 1\r\n",
      "                 Class     Images  Instances          P          R      mAP50   \r\n",
      "                   all         25         25      0.918        0.9      0.962        0.4\r\n",
      "\r\n",
      "      Epoch    GPU_mem   box_loss   obj_loss   cls_loss  Instances       Size\r\n",
      "      16/99      3.06G    0.04155    0.01199          0         14        640: 1\r\n",
      "                 Class     Images  Instances          P          R      mAP50   \r\n",
      "                   all         25         25      0.882      0.899      0.961      0.557\r\n",
      "\r\n",
      "      Epoch    GPU_mem   box_loss   obj_loss   cls_loss  Instances       Size\r\n",
      "      17/99      3.06G    0.03983    0.01233          0         20        640: 1\r\n",
      "                 Class     Images  Instances          P          R      mAP50   \r\n",
      "                   all         25         25       0.91       0.92      0.967       0.47\r\n",
      "\r\n",
      "      Epoch    GPU_mem   box_loss   obj_loss   cls_loss  Instances       Size\r\n",
      "      18/99      3.06G    0.04109    0.01067          0         13        640: 1\r\n",
      "                 Class     Images  Instances          P          R      mAP50   \r\n",
      "                   all         25         25      0.919       0.91      0.961       0.55\r\n",
      "\r\n",
      "      Epoch    GPU_mem   box_loss   obj_loss   cls_loss  Instances       Size\r\n",
      "      19/99      3.06G    0.03859    0.01247          0         16        640: 1\r\n",
      "                 Class     Images  Instances          P          R      mAP50   \r\n",
      "                   all         25         25      0.949       0.92      0.978      0.373\r\n",
      "\r\n",
      "      Epoch    GPU_mem   box_loss   obj_loss   cls_loss  Instances       Size\r\n",
      "      20/99      3.06G    0.04022    0.01146          0         15        640: 1\r\n",
      "                 Class     Images  Instances          P          R      mAP50   \r\n",
      "                   all         25         25      0.958      0.917      0.982      0.552\r\n",
      "\r\n",
      "      Epoch    GPU_mem   box_loss   obj_loss   cls_loss  Instances       Size\r\n",
      "      21/99      3.06G    0.03757    0.01102          0         17        640: 1\r\n",
      "                 Class     Images  Instances          P          R      mAP50   \r\n",
      "                   all         25         25      0.899       0.96      0.986      0.479\r\n",
      "\r\n",
      "      Epoch    GPU_mem   box_loss   obj_loss   cls_loss  Instances       Size\r\n",
      "      22/99      3.06G    0.03712    0.01059          0         17        640: 1\r\n",
      "                 Class     Images  Instances          P          R      mAP50   \r\n",
      "                   all         25         25      0.891      0.982      0.984      0.608\r\n",
      "\r\n",
      "      Epoch    GPU_mem   box_loss   obj_loss   cls_loss  Instances       Size\r\n",
      "      23/99      3.06G    0.03408    0.01034          0         20        640: 1\r\n",
      "                 Class     Images  Instances          P          R      mAP50   \r\n",
      "                   all         25         25      0.986       0.92      0.987      0.564\r\n",
      "\r\n",
      "      Epoch    GPU_mem   box_loss   obj_loss   cls_loss  Instances       Size\r\n",
      "      24/99      3.06G    0.03343   0.009875          0         14        640: 1\r\n",
      "                 Class     Images  Instances          P          R      mAP50   \r\n",
      "                   all         25         25          1      0.957      0.993      0.517\r\n",
      "\r\n",
      "      Epoch    GPU_mem   box_loss   obj_loss   cls_loss  Instances       Size\r\n",
      "      25/99      3.06G    0.03404    0.00998          0         18        640: 1\r\n",
      "                 Class     Images  Instances          P          R      mAP50   \r\n",
      "                   all         25         25          1      0.986      0.995      0.645\r\n",
      "\r\n",
      "      Epoch    GPU_mem   box_loss   obj_loss   cls_loss  Instances       Size\r\n",
      "      26/99      3.06G    0.03243   0.009795          0         15        640: 1\r\n",
      "                 Class     Images  Instances          P          R      mAP50   \r\n",
      "                   all         25         25      0.796       0.96      0.949      0.518\r\n",
      "\r\n",
      "      Epoch    GPU_mem   box_loss   obj_loss   cls_loss  Instances       Size\r\n",
      "      27/99      3.06G    0.03241    0.00942          0         16        640: 1\r\n",
      "                 Class     Images  Instances          P          R      mAP50   \r\n",
      "                   all         25         25      0.956       0.96      0.991      0.592\r\n",
      "\r\n",
      "      Epoch    GPU_mem   box_loss   obj_loss   cls_loss  Instances       Size\r\n",
      "      28/99      3.06G    0.03185   0.008256          0         18        640: 1\r\n",
      "                 Class     Images  Instances          P          R      mAP50   \r\n",
      "                   all         25         25          1      0.996      0.995      0.529\r\n",
      "\r\n",
      "      Epoch    GPU_mem   box_loss   obj_loss   cls_loss  Instances       Size\r\n",
      "      29/99      3.06G    0.03252   0.008978          0         20        640: 1\r\n",
      "                 Class     Images  Instances          P          R      mAP50   \r\n",
      "                   all         25         25          1      0.993      0.995      0.618\r\n",
      "\r\n",
      "      Epoch    GPU_mem   box_loss   obj_loss   cls_loss  Instances       Size\r\n",
      "      30/99      3.06G    0.03213   0.008426          0         14        640: 1\r\n",
      "                 Class     Images  Instances          P          R      mAP50   \r\n",
      "                   all         25         25          1      0.993      0.995       0.51\r\n",
      "\r\n",
      "      Epoch    GPU_mem   box_loss   obj_loss   cls_loss  Instances       Size\r\n",
      "      31/99      3.06G    0.02997   0.008393          0         19        640: 1\r\n",
      "                 Class     Images  Instances          P          R      mAP50   \r\n",
      "                   all         25         25          1      0.993      0.995      0.514\r\n",
      "\r\n",
      "      Epoch    GPU_mem   box_loss   obj_loss   cls_loss  Instances       Size\r\n",
      "      32/99      3.06G     0.0319   0.008671          0         13        640: 1\r\n",
      "                 Class     Images  Instances          P          R      mAP50   \r\n",
      "                   all         25         25          1          1      0.995      0.607\r\n",
      "\r\n",
      "      Epoch    GPU_mem   box_loss   obj_loss   cls_loss  Instances       Size\r\n",
      "      33/99      3.06G    0.03162   0.008411          0         18        640: 1\r\n",
      "                 Class     Images  Instances          P          R      mAP50   \r\n",
      "                   all         25         25      0.992          1      0.995      0.607\r\n",
      "\r\n",
      "      Epoch    GPU_mem   box_loss   obj_loss   cls_loss  Instances       Size\r\n",
      "      34/99      3.06G    0.03168   0.007809          0         12        640: 1\r\n",
      "                 Class     Images  Instances          P          R      mAP50   \r\n",
      "                   all         25         25      0.992          1      0.995      0.673\r\n",
      "\r\n",
      "      Epoch    GPU_mem   box_loss   obj_loss   cls_loss  Instances       Size\r\n",
      "      35/99      3.06G    0.03098   0.008879          0         19        640: 1\r\n",
      "                 Class     Images  Instances          P          R      mAP50   \r\n",
      "                   all         25         25          1      0.996      0.995      0.494\r\n",
      "\r\n",
      "      Epoch    GPU_mem   box_loss   obj_loss   cls_loss  Instances       Size\r\n",
      "      36/99      3.06G     0.0294   0.007803          0         11        640: 1\r\n",
      "                 Class     Images  Instances          P          R      mAP50   \r\n",
      "                   all         25         25      0.991          1      0.995      0.621\r\n",
      "\r\n",
      "      Epoch    GPU_mem   box_loss   obj_loss   cls_loss  Instances       Size\r\n",
      "      37/99      3.06G     0.0294   0.007413          0         15        640: 1\r\n",
      "                 Class     Images  Instances          P          R      mAP50   \r\n",
      "                   all         25         25      0.995          1      0.995        0.6\r\n",
      "\r\n",
      "      Epoch    GPU_mem   box_loss   obj_loss   cls_loss  Instances       Size\r\n",
      "      38/99      3.06G    0.02934   0.007803          0         19        640: 1\r\n",
      "                 Class     Images  Instances          P          R      mAP50   \r\n",
      "                   all         25         25      0.995          1      0.995       0.64\r\n",
      "\r\n",
      "      Epoch    GPU_mem   box_loss   obj_loss   cls_loss  Instances       Size\r\n",
      "      39/99      3.06G    0.02695   0.007663          0         14        640: 1\r\n",
      "                 Class     Images  Instances          P          R      mAP50   \r\n",
      "                   all         25         25          1      0.988      0.995      0.621\r\n",
      "\r\n",
      "      Epoch    GPU_mem   box_loss   obj_loss   cls_loss  Instances       Size\r\n",
      "      40/99      3.06G    0.02638   0.007355          0         13        640: 1\r\n",
      "                 Class     Images  Instances          P          R      mAP50   \r\n",
      "                   all         25         25      0.997          1      0.995      0.667\r\n",
      "\r\n",
      "      Epoch    GPU_mem   box_loss   obj_loss   cls_loss  Instances       Size\r\n",
      "      41/99      3.06G    0.02678   0.007287          0         13        640: 1\r\n",
      "                 Class     Images  Instances          P          R      mAP50   \r\n",
      "                   all         25         25      0.999          1      0.995      0.683\r\n",
      "\r\n",
      "      Epoch    GPU_mem   box_loss   obj_loss   cls_loss  Instances       Size\r\n",
      "      42/99      3.06G    0.02722   0.007174          0         18        640: 1\r\n",
      "                 Class     Images  Instances          P          R      mAP50   \r\n",
      "                   all         25         25      0.999          1      0.995      0.641\r\n",
      "\r\n",
      "      Epoch    GPU_mem   box_loss   obj_loss   cls_loss  Instances       Size\r\n",
      "      43/99      3.06G    0.02805   0.007626          0         23        640: 1\r\n",
      "                 Class     Images  Instances          P          R      mAP50   \r\n",
      "                   all         25         25      0.996          1      0.995      0.689\r\n",
      "\r\n",
      "      Epoch    GPU_mem   box_loss   obj_loss   cls_loss  Instances       Size\r\n",
      "      44/99      3.06G     0.0262   0.007797          0         18        640: 1\r\n",
      "                 Class     Images  Instances          P          R      mAP50   \r\n",
      "                   all         25         25          1      0.994      0.995      0.633\r\n",
      "\r\n",
      "      Epoch    GPU_mem   box_loss   obj_loss   cls_loss  Instances       Size\r\n",
      "      45/99      3.06G    0.02706   0.007356          0         20        640: 1\r\n",
      "                 Class     Images  Instances          P          R      mAP50   \r\n",
      "                   all         25         25          1      0.959      0.993      0.625\r\n",
      "\r\n",
      "      Epoch    GPU_mem   box_loss   obj_loss   cls_loss  Instances       Size\r\n",
      "      46/99      3.06G    0.02631   0.007129          0         17        640: 1\r\n",
      "                 Class     Images  Instances          P          R      mAP50   \r\n",
      "                   all         25         25      0.999       0.96      0.993      0.685\r\n",
      "\r\n",
      "      Epoch    GPU_mem   box_loss   obj_loss   cls_loss  Instances       Size\r\n",
      "      47/99      3.06G     0.0257   0.006965          0         13        640: 1\r\n",
      "                 Class     Images  Instances          P          R      mAP50   \r\n",
      "                   all         25         25      0.994       0.96      0.993      0.661\r\n",
      "\r\n",
      "      Epoch    GPU_mem   box_loss   obj_loss   cls_loss  Instances       Size\r\n",
      "      48/99      3.06G    0.02512   0.007236          0         17        640: 1\r\n",
      "                 Class     Images  Instances          P          R      mAP50   \r\n",
      "                   all         25         25      0.998       0.96      0.993      0.683\r\n",
      "\r\n",
      "      Epoch    GPU_mem   box_loss   obj_loss   cls_loss  Instances       Size\r\n",
      "      49/99      3.06G    0.02604   0.006732          0         14        640: 1\r\n",
      "                 Class     Images  Instances          P          R      mAP50   \r\n",
      "                   all         25         25          1      0.959      0.993       0.66\r\n",
      "\r\n",
      "      Epoch    GPU_mem   box_loss   obj_loss   cls_loss  Instances       Size\r\n",
      "      50/99      3.06G    0.02517   0.007084          0         18        640: 1\r\n",
      "                 Class     Images  Instances          P          R      mAP50   \r\n",
      "                   all         25         25          1      0.955      0.993      0.693\r\n",
      "\r\n",
      "      Epoch    GPU_mem   box_loss   obj_loss   cls_loss  Instances       Size\r\n",
      "      51/99      3.06G    0.02584   0.007086          0         13        640: 1\r\n",
      "                 Class     Images  Instances          P          R      mAP50   \r\n",
      "                   all         25         25      0.958          1      0.993      0.597\r\n",
      "\r\n",
      "      Epoch    GPU_mem   box_loss   obj_loss   cls_loss  Instances       Size\r\n",
      "      52/99      3.06G    0.02481   0.006159          0         18        640: 1\r\n",
      "                 Class     Images  Instances          P          R      mAP50   \r\n",
      "                   all         25         25      0.995       0.96      0.993      0.594\r\n",
      "\r\n",
      "      Epoch    GPU_mem   box_loss   obj_loss   cls_loss  Instances       Size\r\n",
      "      53/99      3.06G    0.02518   0.007115          0         15        640: 1\r\n",
      "                 Class     Images  Instances          P          R      mAP50   \r\n",
      "                   all         25         25          1      0.995      0.995       0.68\r\n",
      "\r\n",
      "      Epoch    GPU_mem   box_loss   obj_loss   cls_loss  Instances       Size\r\n",
      "      54/99      3.06G    0.02429   0.006226          0         18        640: 1\r\n",
      "                 Class     Images  Instances          P          R      mAP50   \r\n",
      "                   all         25         25          1      0.996      0.995      0.648\r\n",
      "\r\n",
      "      Epoch    GPU_mem   box_loss   obj_loss   cls_loss  Instances       Size\r\n",
      "      55/99      3.06G    0.02314   0.006501          0         14        640: 1\r\n",
      "                 Class     Images  Instances          P          R      mAP50   \r\n",
      "                   all         25         25          1      0.997      0.995      0.678\r\n",
      "\r\n",
      "      Epoch    GPU_mem   box_loss   obj_loss   cls_loss  Instances       Size\r\n",
      "      56/99      3.06G    0.02279    0.00673          0         17        640: 1\r\n",
      "                 Class     Images  Instances          P          R      mAP50   \r\n",
      "                   all         25         25          1      0.995      0.995      0.649\r\n",
      "\r\n",
      "      Epoch    GPU_mem   box_loss   obj_loss   cls_loss  Instances       Size\r\n",
      "      57/99      3.06G    0.02424   0.006554          0         22        640: 1\r\n",
      "                 Class     Images  Instances          P          R      mAP50   \r\n",
      "                   all         25         25          1      0.994      0.995      0.656\r\n",
      "\r\n",
      "      Epoch    GPU_mem   box_loss   obj_loss   cls_loss  Instances       Size\r\n",
      "      58/99      3.06G    0.02443    0.00676          0         12        640: 1\r\n",
      "                 Class     Images  Instances          P          R      mAP50   \r\n",
      "                   all         25         25      0.999          1      0.995      0.674\r\n",
      "\r\n",
      "      Epoch    GPU_mem   box_loss   obj_loss   cls_loss  Instances       Size\r\n",
      "      59/99      3.06G     0.0234   0.007269          0         16        640: 1\r\n",
      "                 Class     Images  Instances          P          R      mAP50   \r\n",
      "                   all         25         25      0.998          1      0.995      0.682\r\n",
      "\r\n",
      "      Epoch    GPU_mem   box_loss   obj_loss   cls_loss  Instances       Size\r\n",
      "      60/99      3.06G    0.02267   0.006465          0         16        640: 1\r\n",
      "                 Class     Images  Instances          P          R      mAP50   \r\n",
      "                   all         25         25      0.998          1      0.995      0.656\r\n",
      "\r\n",
      "      Epoch    GPU_mem   box_loss   obj_loss   cls_loss  Instances       Size\r\n",
      "      61/99      3.06G    0.02405   0.006528          0          9        640: 1\r\n",
      "                 Class     Images  Instances          P          R      mAP50   \r\n",
      "                   all         25         25      0.997          1      0.995      0.679\r\n",
      "\r\n",
      "      Epoch    GPU_mem   box_loss   obj_loss   cls_loss  Instances       Size\r\n",
      "      62/99      3.06G    0.02291   0.006161          0         18        640: 1\r\n",
      "                 Class     Images  Instances          P          R      mAP50   \r\n",
      "                   all         25         25      0.996          1      0.995      0.627\r\n",
      "\r\n",
      "      Epoch    GPU_mem   box_loss   obj_loss   cls_loss  Instances       Size\r\n",
      "      63/99      3.06G    0.02225   0.006431          0         10        640: 1\r\n",
      "                 Class     Images  Instances          P          R      mAP50   \r\n",
      "                   all         25         25      0.997          1      0.995      0.683\r\n",
      "\r\n",
      "      Epoch    GPU_mem   box_loss   obj_loss   cls_loss  Instances       Size\r\n",
      "      64/99      3.06G    0.02373   0.006547          0         21        640: 1\r\n",
      "                 Class     Images  Instances          P          R      mAP50   \r\n",
      "                   all         25         25      0.996          1      0.995      0.685\r\n",
      "\r\n",
      "      Epoch    GPU_mem   box_loss   obj_loss   cls_loss  Instances       Size\r\n",
      "      65/99      3.06G     0.0229   0.005975          0         12        640: 1\r\n",
      "                 Class     Images  Instances          P          R      mAP50   \r\n",
      "                   all         25         25      0.994          1      0.995      0.712\r\n",
      "\r\n",
      "      Epoch    GPU_mem   box_loss   obj_loss   cls_loss  Instances       Size\r\n",
      "      66/99      3.06G    0.02192   0.006076          0         13        640: 1\r\n",
      "                 Class     Images  Instances          P          R      mAP50   \r\n",
      "                   all         25         25          1      0.998      0.995       0.71\r\n",
      "\r\n",
      "      Epoch    GPU_mem   box_loss   obj_loss   cls_loss  Instances       Size\r\n",
      "      67/99      3.06G    0.02159   0.006121          0         13        640: 1\r\n",
      "                 Class     Images  Instances          P          R      mAP50   \r\n",
      "                   all         25         25      0.959          1       0.99      0.688\r\n",
      "\r\n",
      "      Epoch    GPU_mem   box_loss   obj_loss   cls_loss  Instances       Size\r\n",
      "      68/99      3.06G    0.02101   0.005817          0         12        640: 1\r\n",
      "                 Class     Images  Instances          P          R      mAP50   \r\n",
      "                   all         25         25      0.961          1       0.99      0.695\r\n",
      "\r\n",
      "      Epoch    GPU_mem   box_loss   obj_loss   cls_loss  Instances       Size\r\n",
      "      69/99      3.06G    0.02033   0.006344          0         16        640: 1\r\n",
      "                 Class     Images  Instances          P          R      mAP50   \r\n",
      "                   all         25         25      0.958          1      0.993      0.669\r\n",
      "\r\n",
      "      Epoch    GPU_mem   box_loss   obj_loss   cls_loss  Instances       Size\r\n",
      "      70/99      3.06G    0.01994   0.005782          0         14        640: 1\r\n",
      "                 Class     Images  Instances          P          R      mAP50   \r\n",
      "                   all         25         25      0.959          1      0.993      0.709\r\n",
      "\r\n",
      "      Epoch    GPU_mem   box_loss   obj_loss   cls_loss  Instances       Size\r\n",
      "      71/99      3.06G    0.02012   0.005982          0         13        640: 1\r\n",
      "                 Class     Images  Instances          P          R      mAP50   \r\n",
      "                   all         25         25      0.959          1      0.993      0.691\r\n",
      "\r\n",
      "      Epoch    GPU_mem   box_loss   obj_loss   cls_loss  Instances       Size\r\n",
      "      72/99      3.06G    0.02004   0.005901          0         20        640: 1\r\n",
      "                 Class     Images  Instances          P          R      mAP50   \r\n",
      "                   all         25         25      0.958          1      0.993      0.676\r\n",
      "\r\n",
      "      Epoch    GPU_mem   box_loss   obj_loss   cls_loss  Instances       Size\r\n",
      "      73/99      3.06G    0.01997   0.006001          0         17        640: 1\r\n",
      "                 Class     Images  Instances          P          R      mAP50   \r\n",
      "                   all         25         25      0.957          1      0.993      0.696\r\n",
      "\r\n",
      "      Epoch    GPU_mem   box_loss   obj_loss   cls_loss  Instances       Size\r\n",
      "      74/99      3.06G    0.02032   0.005792          0         13        640: 1\r\n",
      "                 Class     Images  Instances          P          R      mAP50   \r\n",
      "                   all         25         25          1      0.995      0.995      0.676\r\n",
      "\r\n",
      "      Epoch    GPU_mem   box_loss   obj_loss   cls_loss  Instances       Size\r\n",
      "      75/99      3.06G    0.01951   0.006148          0         24        640: 1\r\n",
      "                 Class     Images  Instances          P          R      mAP50   \r\n",
      "                   all         25         25          1      0.992      0.995      0.694\r\n",
      "\r\n",
      "      Epoch    GPU_mem   box_loss   obj_loss   cls_loss  Instances       Size\r\n",
      "      76/99      3.06G     0.0201    0.00569          0         11        640: 1\r\n",
      "                 Class     Images  Instances          P          R      mAP50   \r\n",
      "                   all         25         25          1      0.998      0.995      0.674\r\n",
      "\r\n",
      "      Epoch    GPU_mem   box_loss   obj_loss   cls_loss  Instances       Size\r\n",
      "      77/99      3.06G    0.01902   0.006004          0         20        640: 1\r\n",
      "                 Class     Images  Instances          P          R      mAP50   \r\n",
      "                   all         25         25          1      0.988      0.995      0.684\r\n",
      "\r\n",
      "      Epoch    GPU_mem   box_loss   obj_loss   cls_loss  Instances       Size\r\n",
      "      78/99      3.06G    0.01899   0.006174          0         17        640: 1\r\n",
      "                 Class     Images  Instances          P          R      mAP50   \r\n",
      "                   all         25         25          1          1      0.995       0.69\r\n",
      "\r\n",
      "      Epoch    GPU_mem   box_loss   obj_loss   cls_loss  Instances       Size\r\n",
      "      79/99      3.06G     0.0185   0.006014          0         18        640: 1\r\n",
      "                 Class     Images  Instances          P          R      mAP50   \r\n",
      "                   all         25         25      0.992          1      0.995      0.701\r\n",
      "\r\n",
      "      Epoch    GPU_mem   box_loss   obj_loss   cls_loss  Instances       Size\r\n",
      "      80/99      3.06G    0.01765   0.005763          0         15        640: 1\r\n",
      "                 Class     Images  Instances          P          R      mAP50   \r\n",
      "                   all         25         25       0.99          1      0.995      0.673\r\n",
      "\r\n",
      "      Epoch    GPU_mem   box_loss   obj_loss   cls_loss  Instances       Size\r\n",
      "      81/99      3.06G    0.01813   0.005412          0         22        640: 1\r\n",
      "                 Class     Images  Instances          P          R      mAP50   \r\n",
      "                   all         25         25      0.993          1      0.995      0.708\r\n",
      "\r\n",
      "      Epoch    GPU_mem   box_loss   obj_loss   cls_loss  Instances       Size\r\n",
      "      82/99      3.06G    0.01903   0.005364          0         12        640: 1\r\n",
      "                 Class     Images  Instances          P          R      mAP50   \r\n",
      "                   all         25         25      0.999          1      0.995        0.7\r\n",
      "\r\n",
      "      Epoch    GPU_mem   box_loss   obj_loss   cls_loss  Instances       Size\r\n",
      "      83/99      3.06G    0.01743   0.005348          0         16        640: 1\r\n",
      "                 Class     Images  Instances          P          R      mAP50   \r\n",
      "                   all         25         25          1      0.996      0.995      0.701\r\n",
      "\r\n",
      "      Epoch    GPU_mem   box_loss   obj_loss   cls_loss  Instances       Size\r\n",
      "      84/99      3.06G    0.01755   0.005595          0         15        640: 1\r\n",
      "                 Class     Images  Instances          P          R      mAP50   \r\n",
      "                   all         25         25          1      0.995      0.995       0.71\r\n",
      "\r\n",
      "      Epoch    GPU_mem   box_loss   obj_loss   cls_loss  Instances       Size\r\n",
      "      85/99      3.06G    0.01813   0.005554          0         19        640: 1\r\n",
      "                 Class     Images  Instances          P          R      mAP50   \r\n",
      "                   all         25         25          1      0.994      0.995      0.706\r\n",
      "\r\n",
      "      Epoch    GPU_mem   box_loss   obj_loss   cls_loss  Instances       Size\r\n",
      "      86/99      3.06G    0.01843   0.005237          0         13        640: 1\r\n",
      "                 Class     Images  Instances          P          R      mAP50   \r\n",
      "                   all         25         25          1      0.996      0.995       0.69\r\n",
      "\r\n",
      "      Epoch    GPU_mem   box_loss   obj_loss   cls_loss  Instances       Size\r\n",
      "      87/99      3.06G    0.01683   0.005242          0         16        640: 1\r\n",
      "                 Class     Images  Instances          P          R      mAP50   \r\n",
      "                   all         25         25          1      0.996      0.995      0.708\r\n",
      "\r\n",
      "      Epoch    GPU_mem   box_loss   obj_loss   cls_loss  Instances       Size\r\n",
      "      88/99      3.06G    0.01727   0.005549          0         20        640: 1\r\n",
      "                 Class     Images  Instances          P          R      mAP50   \r\n",
      "                   all         25         25      0.954          1      0.993      0.698\r\n",
      "\r\n",
      "      Epoch    GPU_mem   box_loss   obj_loss   cls_loss  Instances       Size\r\n",
      "      89/99      3.06G    0.01681   0.005127          0         19        640: 1\r\n",
      "                 Class     Images  Instances          P          R      mAP50   \r\n",
      "                   all         25         25      0.956          1      0.993      0.682\r\n",
      "\r\n",
      "      Epoch    GPU_mem   box_loss   obj_loss   cls_loss  Instances       Size\r\n",
      "      90/99      3.06G    0.01752   0.005484          0         16        640: 1\r\n",
      "                 Class     Images  Instances          P          R      mAP50   \r\n",
      "                   all         25         25      0.956          1      0.993      0.684\r\n",
      "\r\n",
      "      Epoch    GPU_mem   box_loss   obj_loss   cls_loss  Instances       Size\r\n",
      "      91/99      3.06G    0.01723   0.005387          0         18        640: 1\r\n",
      "                 Class     Images  Instances          P          R      mAP50   \r\n",
      "                   all         25         25      0.957          1      0.993      0.685\r\n",
      "\r\n",
      "      Epoch    GPU_mem   box_loss   obj_loss   cls_loss  Instances       Size\r\n",
      "      92/99      3.06G    0.01728   0.005464          0         15        640: 1\r\n",
      "                 Class     Images  Instances          P          R      mAP50   \r\n",
      "                   all         25         25      0.957          1      0.993      0.676\r\n",
      "\r\n",
      "      Epoch    GPU_mem   box_loss   obj_loss   cls_loss  Instances       Size\r\n",
      "      93/99      3.06G    0.01688   0.005385          0         15        640: 1\r\n",
      "                 Class     Images  Instances          P          R      mAP50   \r\n",
      "                   all         25         25      0.958          1      0.993      0.692\r\n",
      "\r\n",
      "      Epoch    GPU_mem   box_loss   obj_loss   cls_loss  Instances       Size\r\n",
      "      94/99      3.06G    0.01718   0.005887          0         18        640: 1\r\n",
      "                 Class     Images  Instances          P          R      mAP50   \r\n",
      "                   all         25         25      0.957          1      0.993      0.709\r\n",
      "\r\n",
      "      Epoch    GPU_mem   box_loss   obj_loss   cls_loss  Instances       Size\r\n",
      "      95/99      3.06G    0.01679   0.005103          0         15        640: 1\r\n",
      "                 Class     Images  Instances          P          R      mAP50   \r\n",
      "                   all         25         25      0.957          1      0.993      0.704\r\n",
      "\r\n",
      "      Epoch    GPU_mem   box_loss   obj_loss   cls_loss  Instances       Size\r\n",
      "      96/99      3.06G    0.01548   0.005457          0         12        640: 1\r\n",
      "                 Class     Images  Instances          P          R      mAP50   \r\n",
      "                   all         25         25      0.957          1      0.993      0.697\r\n",
      "\r\n",
      "      Epoch    GPU_mem   box_loss   obj_loss   cls_loss  Instances       Size\r\n",
      "      97/99      3.06G    0.01592   0.005105          0         14        640: 1\r\n",
      "                 Class     Images  Instances          P          R      mAP50   \r\n",
      "                   all         25         25      0.957          1      0.993      0.689\r\n",
      "\r\n",
      "      Epoch    GPU_mem   box_loss   obj_loss   cls_loss  Instances       Size\r\n",
      "      98/99      3.06G    0.01694   0.005471          0         17        640: 1\r\n",
      "                 Class     Images  Instances          P          R      mAP50   \r\n",
      "                   all         25         25          1      0.987      0.995      0.684\r\n",
      "\r\n",
      "      Epoch    GPU_mem   box_loss   obj_loss   cls_loss  Instances       Size\r\n",
      "      99/99      3.06G    0.01622   0.005878          0         20        640: 1\r\n",
      "                 Class     Images  Instances          P          R      mAP50   \r\n",
      "                   all         25         25          1      0.985      0.995      0.692\r\n",
      "\r\n",
      "100 epochs completed in 0.402 hours.\r\n",
      "Optimizer stripped from yolov5/runs/train/Model/weights/last.pt, 14.4MB\r\n",
      "Optimizer stripped from yolov5/runs/train/Model/weights/best.pt, 14.4MB\r\n",
      "\r\n",
      "Validating yolov5/runs/train/Model/weights/best.pt...\r\n",
      "Fusing layers... \r\n",
      "YOLOv5s summary: 157 layers, 7012822 parameters, 0 gradients, 15.8 GFLOPs\r\n",
      "                 Class     Images  Instances          P          R      mAP50   \r\n",
      "                   all         25         25      0.994          1      0.995      0.712\r\n",
      "Results saved to \u001b[1myolov5/runs/train/Model\u001b[0m\r\n"
     ]
    }
   ],
   "source": [
    "!python ./yolov5/train.py --data ../input/yamlsecond/data1.yaml --cfg ./yolov5/models/yolov5s.yaml --workers 0 --batch-size 8 --name Model --epochs 100"
   ]
  },
  {
   "cell_type": "code",
   "execution_count": 24,
   "id": "8bb7e19e",
   "metadata": {
    "execution": {
     "iopub.execute_input": "2022-11-01T19:11:48.406475Z",
     "iopub.status.busy": "2022-11-01T19:11:48.405979Z",
     "iopub.status.idle": "2022-11-01T19:12:02.182614Z",
     "shell.execute_reply": "2022-11-01T19:12:02.181397Z"
    },
    "papermill": {
     "duration": 14.045997,
     "end_time": "2022-11-01T19:12:02.185592",
     "exception": false,
     "start_time": "2022-11-01T19:11:48.139595",
     "status": "completed"
    },
    "tags": []
   },
   "outputs": [
    {
     "name": "stdout",
     "output_type": "stream",
     "text": [
      "\u001b[34m\u001b[1mval: \u001b[0mdata=../input/yamlsecond/data1.yaml, weights=['./yolov5/runs/train/Model/weights/best.pt'], batch_size=32, imgsz=640, conf_thres=0.001, iou_thres=0.6, max_det=300, task=val, device=, workers=8, single_cls=False, augment=False, verbose=False, save_txt=False, save_hybrid=False, save_conf=False, save_json=False, project=yolov5/runs/val, name=exp, exist_ok=False, half=False, dnn=False\r\n",
      "YOLOv5 🚀 v6.2-224-g82a5585 Python-3.7.12 torch-1.11.0 CUDA:0 (Tesla P100-PCIE-16GB, 16281MiB)\r\n",
      "\r\n",
      "Fusing layers... \r\n",
      "YOLOv5s summary: 157 layers, 7012822 parameters, 0 gradients, 15.8 GFLOPs\r\n",
      "\u001b[34m\u001b[1mval: \u001b[0mScanning '/kaggle/working/yolov5/data_images/test.cache' images and labels.\u001b[0m\r\n",
      "                 Class     Images  Instances          P          R      mAP50   \r\n",
      "                   all         25         25      0.995          1      0.995      0.705\r\n",
      "Speed: 0.2ms pre-process, 5.8ms inference, 1.2ms NMS per image at shape (32, 3, 640, 640)\r\n",
      "Results saved to \u001b[1myolov5/runs/val/exp\u001b[0m\r\n"
     ]
    }
   ],
   "source": [
    "!python ./yolov5/val.py --data ../input/yamlsecond/data1.yaml --weight ./yolov5/runs/train/Model/weights/best.pt"
   ]
  },
  {
   "cell_type": "code",
   "execution_count": 25,
   "id": "56edb065",
   "metadata": {
    "execution": {
     "iopub.execute_input": "2022-11-01T19:12:02.605713Z",
     "iopub.status.busy": "2022-11-01T19:12:02.605294Z",
     "iopub.status.idle": "2022-11-01T19:12:15.170204Z",
     "shell.execute_reply": "2022-11-01T19:12:15.168983Z"
    },
    "papermill": {
     "duration": 12.755159,
     "end_time": "2022-11-01T19:12:15.172751",
     "exception": false,
     "start_time": "2022-11-01T19:12:02.417592",
     "status": "completed"
    },
    "tags": []
   },
   "outputs": [
    {
     "name": "stdout",
     "output_type": "stream",
     "text": [
      "\u001b[34m\u001b[1mval: \u001b[0mdata=../input/yamlsecond/data1.yaml, weights=['./yolov5/runs/train/Model/weights/best.pt'], batch_size=32, imgsz=640, conf_thres=0.001, iou_thres=0.6, max_det=300, task=val, device=, workers=8, single_cls=False, augment=False, verbose=False, save_txt=False, save_hybrid=False, save_conf=False, save_json=False, project=yolov5/runs/val, name=exp, exist_ok=False, half=False, dnn=False\r\n",
      "YOLOv5 🚀 v6.2-224-g82a5585 Python-3.7.12 torch-1.11.0 CUDA:0 (Tesla P100-PCIE-16GB, 16281MiB)\r\n",
      "\r\n",
      "Fusing layers... \r\n",
      "YOLOv5s summary: 157 layers, 7012822 parameters, 0 gradients, 15.8 GFLOPs\r\n",
      "\u001b[34m\u001b[1mval: \u001b[0mScanning '/kaggle/working/yolov5/data_images/test.cache' images and labels.\u001b[0m\r\n",
      "                 Class     Images  Instances          P          R      mAP50   \r\n",
      "                   all         25         25      0.995          1      0.995      0.705\r\n",
      "Speed: 0.2ms pre-process, 4.4ms inference, 1.9ms NMS per image at shape (32, 3, 640, 640)\r\n",
      "Results saved to \u001b[1myolov5/runs/val/exp2\u001b[0m\r\n"
     ]
    }
   ],
   "source": [
    "!python ./yolov5/val.py --weight ./yolov5/runs/train/Model/weights/best.pt --data ../input/yamlsecond/data1.yaml --img 640"
   ]
  },
  {
   "cell_type": "code",
   "execution_count": 26,
   "id": "bd77e270",
   "metadata": {
    "execution": {
     "iopub.execute_input": "2022-11-01T19:12:15.531476Z",
     "iopub.status.busy": "2022-11-01T19:12:15.530345Z",
     "iopub.status.idle": "2022-11-01T19:12:25.866971Z",
     "shell.execute_reply": "2022-11-01T19:12:25.865639Z"
    },
    "papermill": {
     "duration": 10.519384,
     "end_time": "2022-11-01T19:12:25.869918",
     "exception": false,
     "start_time": "2022-11-01T19:12:15.350534",
     "status": "completed"
    },
    "tags": []
   },
   "outputs": [
    {
     "name": "stdout",
     "output_type": "stream",
     "text": [
      "\u001b[34m\u001b[1mexport: \u001b[0mdata=yolov5/data/coco128.yaml, weights=['./yolov5/runs/train/Model/weights/best.pt'], imgsz=[640, 640], batch_size=1, device=cpu, half=False, inplace=False, keras=False, optimize=False, int8=False, dynamic=False, simplify=False, opset=12, verbose=False, workspace=4, nms=False, agnostic_nms=False, topk_per_class=100, topk_all=100, iou_thres=0.45, conf_thres=0.25, include=['torchscript', 'onnx']\r\n",
      "YOLOv5 🚀 v6.2-224-g82a5585 Python-3.7.12 torch-1.11.0 CPU\r\n",
      "\r\n",
      "Fusing layers... \r\n",
      "YOLOv5s summary: 157 layers, 7012822 parameters, 0 gradients, 15.8 GFLOPs\r\n",
      "\r\n",
      "\u001b[34m\u001b[1mPyTorch:\u001b[0m starting from yolov5/runs/train/Model/weights/best.pt with output shape (1, 25200, 6) (13.8 MB)\r\n",
      "\r\n",
      "\u001b[34m\u001b[1mTorchScript:\u001b[0m starting export with torch 1.11.0...\r\n",
      "\u001b[34m\u001b[1mTorchScript:\u001b[0m export success ✅ 2.4s, saved as yolov5/runs/train/Model/weights/best.torchscript (27.2 MB)\r\n",
      "\r\n",
      "\u001b[34m\u001b[1mONNX:\u001b[0m starting export with onnx 1.12.0...\r\n",
      "\u001b[34m\u001b[1mONNX:\u001b[0m export success ✅ 2.8s, saved as yolov5/runs/train/Model/weights/best.onnx (27.2 MB)\r\n",
      "\r\n",
      "Export complete (6.0s)\r\n",
      "Results saved to \u001b[1m/kaggle/working/yolov5/runs/train/Model/weights\u001b[0m\r\n",
      "Detect:          python detect.py --weights yolov5/runs/train/Model/weights/best.onnx \r\n",
      "Validate:        python val.py --weights yolov5/runs/train/Model/weights/best.onnx \r\n",
      "PyTorch Hub:     model = torch.hub.load('ultralytics/yolov5', 'custom', 'yolov5/runs/train/Model/weights/best.onnx')  \r\n",
      "Visualize:       https://netron.app\r\n"
     ]
    }
   ],
   "source": [
    "!python ./yolov5/export.py --weight ./yolov5/runs/train/Model/weights/best.pt --include torchscript onnx"
   ]
  }
 ],
 "metadata": {
  "kernelspec": {
   "display_name": "Python 3",
   "language": "python",
   "name": "python3"
  },
  "language_info": {
   "codemirror_mode": {
    "name": "ipython",
    "version": 3
   },
   "file_extension": ".py",
   "mimetype": "text/x-python",
   "name": "python",
   "nbconvert_exporter": "python",
   "pygments_lexer": "ipython3",
   "version": "3.7.12"
  },
  "papermill": {
   "default_parameters": {},
   "duration": 1713.043521,
   "end_time": "2022-11-01T19:12:29.635770",
   "environment_variables": {},
   "exception": null,
   "input_path": "__notebook__.ipynb",
   "output_path": "__notebook__.ipynb",
   "parameters": {},
   "start_time": "2022-11-01T18:43:56.592249",
   "version": "2.3.4"
  }
 },
 "nbformat": 4,
 "nbformat_minor": 5
}
